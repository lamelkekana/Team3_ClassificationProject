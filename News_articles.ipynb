{
 "cells": [
  {
   "cell_type": "markdown",
   "metadata": {},
   "source": [
    "## __Unveiling Insights: Analyzing Trends and Patterns Across Diverse News Categories__"
   ]
  },
  {
   "cell_type": "markdown",
   "metadata": {},
   "source": [
    "<center>\n",
    "  <img src=\"https://cdn.pixabay.com/photo/2018/06/21/16/32/newspapers-3488861_1280.jpg\" width=\"500\"/>\n",
    "</center>\n"
   ]
  },
  {
   "cell_type": "markdown",
   "metadata": {},
   "source": [
    "# Table of Contents\n",
    "1. [Introduction](#1.Introduction)\n",
    "   1.1. [Problem Statement](#1.1.Problem-Statement)  \n",
    "   1.2. [Objectives](#1.2.Objectives)  \n",
    "2. [Importing Packages](#2.Importing-Packages)  \n",
    "3. [Data loading and Inspection](#3.Data-loading-and-Inspection)    \n",
    "4. [Data Cleaning](#4.Data-Cleaning)  \n",
    "5. [Exploratory Data Analysis(EDA)](#5.Exploratory-Data-Analysis(EDA))\n",
    "6. [Data Preprocessing](#6.Data-Preprocessing)\n",
    "7. [Model development](#7.Model-development)\n",
    "8. [Model Evaluation](#8.Model-Evaluation)\n",
    "9. [Model Deployment](#9.Model-Deployment)\n",
    "10. [Conclusion and Recommendations](#10.Conclusion-and-Recommendations)\n",
    "11. [References](#11.References)"
   ]
  },
  {
   "cell_type": "markdown",
   "metadata": {},
   "source": [
    "### **1.Introduction**"
   ]
  },
  {
   "cell_type": "markdown",
   "metadata": {},
   "source": []
  },
  {
   "cell_type": "markdown",
   "metadata": {},
   "source": [
    "#### *1.1.Problem Statement*"
   ]
  },
  {
   "cell_type": "code",
   "execution_count": null,
   "metadata": {},
   "outputs": [],
   "source": []
  },
  {
   "cell_type": "markdown",
   "metadata": {},
   "source": [
    "#### *1.2.Objectives*"
   ]
  },
  {
   "cell_type": "markdown",
   "metadata": {},
   "source": []
  },
  {
   "cell_type": "markdown",
   "metadata": {},
   "source": [
    "### **2.Importing packages**"
   ]
  },
  {
   "cell_type": "markdown",
   "metadata": {},
   "source": [
    "#### *2.1.Basic packages*"
   ]
  },
  {
   "cell_type": "code",
   "execution_count": 2,
   "metadata": {},
   "outputs": [],
   "source": [
    "# import packages\n",
    "import pandas as pd\n",
    "import numpy as np\n",
    "import matplotlib.pyplot as plt\n",
    "import seaborn as sns\n",
    "import re"
   ]
  },
  {
   "cell_type": "markdown",
   "metadata": {},
   "source": [
    "#### *2.2.Model development packages*"
   ]
  },
  {
   "cell_type": "code",
   "execution_count": null,
   "metadata": {},
   "outputs": [],
   "source": []
  },
  {
   "cell_type": "markdown",
   "metadata": {},
   "source": [
    "#### *2.3.Model evaluation packages*"
   ]
  },
  {
   "cell_type": "code",
   "execution_count": null,
   "metadata": {},
   "outputs": [],
   "source": []
  },
  {
   "cell_type": "markdown",
   "metadata": {},
   "source": [
    "### **3.Data loading and Inspection**"
   ]
  },
  {
   "cell_type": "markdown",
   "metadata": {},
   "source": [
    "#### ***3.1.Data loading***"
   ]
  },
  {
   "cell_type": "code",
   "execution_count": 3,
   "metadata": {},
   "outputs": [],
   "source": [
    "# url of the csv file\n",
    "train_url = \"https://github.com/DareSandtech/2407FTDS_Classification_Project/raw/refs/heads/main/Data/processed/train.csv\"\n",
    "test_url = \"https://github.com/DareSandtech/2407FTDS_Classification_Project/raw/refs/heads/main/Data/processed/test.csv\"\n",
    "\n",
    "# load train data\n",
    "train_df = pd.read_csv(train_url)\n",
    "\n",
    "# load test data\n",
    "test_df = pd.read_csv(test_url)"
   ]
  },
  {
   "cell_type": "markdown",
   "metadata": {},
   "source": [
    "#### ***3.2.Data Inspection***"
   ]
  },
  {
   "cell_type": "markdown",
   "metadata": {},
   "source": [
    "##### *3.2.1.Data Overview*"
   ]
  },
  {
   "cell_type": "markdown",
   "metadata": {},
   "source": [
    "To begin, we will first look at the overview of our datasets and inspect their shapes to understand the structure of the data."
   ]
  },
  {
   "cell_type": "code",
   "execution_count": 4,
   "metadata": {},
   "outputs": [
    {
     "name": "stdout",
     "output_type": "stream",
     "text": [
      "Shape of the train dataset: (5520, 5)\n",
      "Shape of the test dataset: (2000, 5)\n"
     ]
    }
   ],
   "source": [
    "# Check the shape of the DataFrame\n",
    "print(\"Shape of the train dataset:\", train_df.shape)\n",
    "print(\"Shape of the test dataset:\", test_df.shape)"
   ]
  },
  {
   "cell_type": "code",
   "execution_count": 5,
   "metadata": {},
   "outputs": [
    {
     "data": {
      "text/html": [
       "<div>\n",
       "<style scoped>\n",
       "    .dataframe tbody tr th:only-of-type {\n",
       "        vertical-align: middle;\n",
       "    }\n",
       "\n",
       "    .dataframe tbody tr th {\n",
       "        vertical-align: top;\n",
       "    }\n",
       "\n",
       "    .dataframe thead th {\n",
       "        text-align: right;\n",
       "    }\n",
       "</style>\n",
       "<table border=\"1\" class=\"dataframe\">\n",
       "  <thead>\n",
       "    <tr style=\"text-align: right;\">\n",
       "      <th></th>\n",
       "      <th>headlines</th>\n",
       "      <th>description</th>\n",
       "      <th>content</th>\n",
       "      <th>url</th>\n",
       "      <th>category</th>\n",
       "    </tr>\n",
       "  </thead>\n",
       "  <tbody>\n",
       "    <tr>\n",
       "      <th>0</th>\n",
       "      <td>RBI revises definition of politically-exposed ...</td>\n",
       "      <td>The central bank has also asked chairpersons a...</td>\n",
       "      <td>The Reserve Bank of India (RBI) has changed th...</td>\n",
       "      <td>https://indianexpress.com/article/business/ban...</td>\n",
       "      <td>business</td>\n",
       "    </tr>\n",
       "    <tr>\n",
       "      <th>1</th>\n",
       "      <td>NDTV Q2 net profit falls 57.4% to Rs 5.55 cror...</td>\n",
       "      <td>NDTV's consolidated revenue from operations wa...</td>\n",
       "      <td>Broadcaster New Delhi Television Ltd on Monday...</td>\n",
       "      <td>https://indianexpress.com/article/business/com...</td>\n",
       "      <td>business</td>\n",
       "    </tr>\n",
       "    <tr>\n",
       "      <th>2</th>\n",
       "      <td>Akasa Air ‘well capitalised’, can grow much fa...</td>\n",
       "      <td>The initial share sale will be open for public...</td>\n",
       "      <td>Homegrown server maker Netweb Technologies Ind...</td>\n",
       "      <td>https://indianexpress.com/article/business/mar...</td>\n",
       "      <td>business</td>\n",
       "    </tr>\n",
       "    <tr>\n",
       "      <th>3</th>\n",
       "      <td>India’s current account deficit declines sharp...</td>\n",
       "      <td>The current account deficit (CAD) was 3.8 per ...</td>\n",
       "      <td>India’s current account deficit declined sharp...</td>\n",
       "      <td>https://indianexpress.com/article/business/eco...</td>\n",
       "      <td>business</td>\n",
       "    </tr>\n",
       "    <tr>\n",
       "      <th>4</th>\n",
       "      <td>States borrowing cost soars to 7.68%, highest ...</td>\n",
       "      <td>The prices shot up reflecting the overall high...</td>\n",
       "      <td>States have been forced to pay through their n...</td>\n",
       "      <td>https://indianexpress.com/article/business/eco...</td>\n",
       "      <td>business</td>\n",
       "    </tr>\n",
       "  </tbody>\n",
       "</table>\n",
       "</div>"
      ],
      "text/plain": [
       "                                           headlines  \\\n",
       "0  RBI revises definition of politically-exposed ...   \n",
       "1  NDTV Q2 net profit falls 57.4% to Rs 5.55 cror...   \n",
       "2  Akasa Air ‘well capitalised’, can grow much fa...   \n",
       "3  India’s current account deficit declines sharp...   \n",
       "4  States borrowing cost soars to 7.68%, highest ...   \n",
       "\n",
       "                                         description  \\\n",
       "0  The central bank has also asked chairpersons a...   \n",
       "1  NDTV's consolidated revenue from operations wa...   \n",
       "2  The initial share sale will be open for public...   \n",
       "3  The current account deficit (CAD) was 3.8 per ...   \n",
       "4  The prices shot up reflecting the overall high...   \n",
       "\n",
       "                                             content  \\\n",
       "0  The Reserve Bank of India (RBI) has changed th...   \n",
       "1  Broadcaster New Delhi Television Ltd on Monday...   \n",
       "2  Homegrown server maker Netweb Technologies Ind...   \n",
       "3  India’s current account deficit declined sharp...   \n",
       "4  States have been forced to pay through their n...   \n",
       "\n",
       "                                                 url  category  \n",
       "0  https://indianexpress.com/article/business/ban...  business  \n",
       "1  https://indianexpress.com/article/business/com...  business  \n",
       "2  https://indianexpress.com/article/business/mar...  business  \n",
       "3  https://indianexpress.com/article/business/eco...  business  \n",
       "4  https://indianexpress.com/article/business/eco...  business  "
      ]
     },
     "execution_count": 5,
     "metadata": {},
     "output_type": "execute_result"
    }
   ],
   "source": [
    "# Display the first 5 rows of the train_df to get a quick overview of the data\n",
    "train_df.head()"
   ]
  },
  {
   "cell_type": "code",
   "execution_count": 6,
   "metadata": {},
   "outputs": [
    {
     "data": {
      "text/html": [
       "<div>\n",
       "<style scoped>\n",
       "    .dataframe tbody tr th:only-of-type {\n",
       "        vertical-align: middle;\n",
       "    }\n",
       "\n",
       "    .dataframe tbody tr th {\n",
       "        vertical-align: top;\n",
       "    }\n",
       "\n",
       "    .dataframe thead th {\n",
       "        text-align: right;\n",
       "    }\n",
       "</style>\n",
       "<table border=\"1\" class=\"dataframe\">\n",
       "  <thead>\n",
       "    <tr style=\"text-align: right;\">\n",
       "      <th></th>\n",
       "      <th>headlines</th>\n",
       "      <th>description</th>\n",
       "      <th>content</th>\n",
       "      <th>url</th>\n",
       "      <th>category</th>\n",
       "    </tr>\n",
       "  </thead>\n",
       "  <tbody>\n",
       "    <tr>\n",
       "      <th>0</th>\n",
       "      <td>NLC India wins contract for power supply to Ra...</td>\n",
       "      <td>State-owned firm NLC India Ltd (NLCIL) on Mond...</td>\n",
       "      <td>State-owned firm NLC India Ltd (NLCIL) on Mond...</td>\n",
       "      <td>https://indianexpress.com/article/business/com...</td>\n",
       "      <td>business</td>\n",
       "    </tr>\n",
       "    <tr>\n",
       "      <th>1</th>\n",
       "      <td>SBI Clerk prelims exams dates announced; admit...</td>\n",
       "      <td>SBI Clerk Prelims Exam: The SBI Clerk prelims ...</td>\n",
       "      <td>SBI Clerk Prelims Exam: The State Bank of Indi...</td>\n",
       "      <td>https://indianexpress.com/article/education/sb...</td>\n",
       "      <td>education</td>\n",
       "    </tr>\n",
       "    <tr>\n",
       "      <th>2</th>\n",
       "      <td>Golden Globes: Michelle Yeoh, Will Ferrell, An...</td>\n",
       "      <td>Barbie is the top nominee this year, followed ...</td>\n",
       "      <td>Michelle Yeoh, Will Ferrell, Angela Bassett an...</td>\n",
       "      <td>https://indianexpress.com/article/entertainmen...</td>\n",
       "      <td>entertainment</td>\n",
       "    </tr>\n",
       "    <tr>\n",
       "      <th>3</th>\n",
       "      <td>OnePlus Nord 3 at Rs 27,999 as part of new pri...</td>\n",
       "      <td>New deal makes the OnePlus Nord 3 an easy purc...</td>\n",
       "      <td>In our review of the OnePlus Nord 3 5G, we pra...</td>\n",
       "      <td>https://indianexpress.com/article/technology/t...</td>\n",
       "      <td>technology</td>\n",
       "    </tr>\n",
       "    <tr>\n",
       "      <th>4</th>\n",
       "      <td>Adani family’s partners used ‘opaque’ funds to...</td>\n",
       "      <td>Citing review of files from multiple tax haven...</td>\n",
       "      <td>Millions of dollars were invested in some publ...</td>\n",
       "      <td>https://indianexpress.com/article/business/ada...</td>\n",
       "      <td>business</td>\n",
       "    </tr>\n",
       "  </tbody>\n",
       "</table>\n",
       "</div>"
      ],
      "text/plain": [
       "                                           headlines  \\\n",
       "0  NLC India wins contract for power supply to Ra...   \n",
       "1  SBI Clerk prelims exams dates announced; admit...   \n",
       "2  Golden Globes: Michelle Yeoh, Will Ferrell, An...   \n",
       "3  OnePlus Nord 3 at Rs 27,999 as part of new pri...   \n",
       "4  Adani family’s partners used ‘opaque’ funds to...   \n",
       "\n",
       "                                         description  \\\n",
       "0  State-owned firm NLC India Ltd (NLCIL) on Mond...   \n",
       "1  SBI Clerk Prelims Exam: The SBI Clerk prelims ...   \n",
       "2  Barbie is the top nominee this year, followed ...   \n",
       "3  New deal makes the OnePlus Nord 3 an easy purc...   \n",
       "4  Citing review of files from multiple tax haven...   \n",
       "\n",
       "                                             content  \\\n",
       "0  State-owned firm NLC India Ltd (NLCIL) on Mond...   \n",
       "1  SBI Clerk Prelims Exam: The State Bank of Indi...   \n",
       "2  Michelle Yeoh, Will Ferrell, Angela Bassett an...   \n",
       "3  In our review of the OnePlus Nord 3 5G, we pra...   \n",
       "4  Millions of dollars were invested in some publ...   \n",
       "\n",
       "                                                 url       category  \n",
       "0  https://indianexpress.com/article/business/com...       business  \n",
       "1  https://indianexpress.com/article/education/sb...      education  \n",
       "2  https://indianexpress.com/article/entertainmen...  entertainment  \n",
       "3  https://indianexpress.com/article/technology/t...     technology  \n",
       "4  https://indianexpress.com/article/business/ada...       business  "
      ]
     },
     "execution_count": 6,
     "metadata": {},
     "output_type": "execute_result"
    }
   ],
   "source": [
    "# Display the first 5 rows of test_df to get a quick overview of the data\n",
    "test_df.head()"
   ]
  },
  {
   "cell_type": "markdown",
   "metadata": {},
   "source": [
    "##### *3.2.2.check for column naming conventions*"
   ]
  },
  {
   "cell_type": "code",
   "execution_count": 7,
   "metadata": {},
   "outputs": [],
   "source": [
    "# Function to Verify If Column Names Adhere to the Correct Naming Convention\n",
    "def check_col_naming_convention(df):\n",
    "    \"\"\"\n",
    "    This function checks if the column names in the given DataFrame follow the \n",
    "    Capitalized Snake Case convention (e.g., 'Order_Date', 'Customer_Name').\n",
    "    \n",
    "    Args:\n",
    "    df (pandas.DataFrame): The DataFrame to check.\n",
    "    \n",
    "    Returns:\n",
    "    dict: A dictionary containing two lists:\n",
    "          - 'compliant': Columns that follow Capitalized Snake Case.\n",
    "          - 'non_compliant': Columns that do not follow Capitalized Snake Case.\n",
    "    \"\"\"\n",
    "    \n",
    "    # Regular expression to check for Capitalized Snake Case\n",
    "    def is_capitalized_snake_case(col):\n",
    "        return bool(re.match(r'^[A-Z][a-z0-9]*(_[A-Z][a-z0-9]*)*$', col))\n",
    "    \n",
    "    # Check all columns\n",
    "    compliant_columns = [col for col in df.columns if is_capitalized_snake_case(col)]\n",
    "    non_compliant_columns = [col for col in df.columns if not is_capitalized_snake_case(col)]\n",
    "    \n",
    "    return {\n",
    "        'compliant': compliant_columns,\n",
    "        'non_compliant': non_compliant_columns\n",
    "    }"
   ]
  },
  {
   "cell_type": "code",
   "execution_count": 8,
   "metadata": {},
   "outputs": [
    {
     "name": "stdout",
     "output_type": "stream",
     "text": [
      "Check column naming conventions for train_df\n",
      "{'compliant': [], 'non_compliant': ['headlines', 'description', 'content', 'url', 'category']}\n",
      "\n",
      "Check column naming conventions for test_df\n",
      "{'compliant': [], 'non_compliant': ['headlines', 'description', 'content', 'url', 'category']}\n"
     ]
    }
   ],
   "source": [
    "# Applying the 'check_col_naming_convention() function' on the datasets to see which column names are not compliant\n",
    "print('Check column naming conventions for train_df')\n",
    "print(check_col_naming_convention(train_df))\n",
    "print()\n",
    "print('Check column naming conventions for test_df')\n",
    "print(check_col_naming_convention(test_df))"
   ]
  },
  {
   "cell_type": "markdown",
   "metadata": {},
   "source": [
    "    - It seems that none of our column names are compliant, as they all start with lowercase letters, which is inconsistent with the standard naming conventions "
   ]
  },
  {
   "cell_type": "markdown",
   "metadata": {},
   "source": [
    "##### *3.2.3.Check for missing entries*"
   ]
  },
  {
   "cell_type": "code",
   "execution_count": 9,
   "metadata": {},
   "outputs": [
    {
     "name": "stdout",
     "output_type": "stream",
     "text": [
      "Train_df\n",
      "\n",
      " headlines      0\n",
      "description    0\n",
      "content        0\n",
      "url            0\n",
      "category       0\n",
      "dtype: int64\n",
      "____________________\n",
      "Test_df\n",
      "\n",
      " headlines      0\n",
      "description    0\n",
      "content        0\n",
      "url            0\n",
      "category       0\n",
      "dtype: int64\n"
     ]
    }
   ],
   "source": [
    "def check_missing_vals(df):\n",
    "    \"\"\"\n",
    "    Checks for missing (null) values in each column of the provided DataFrame.\n",
    "    \n",
    "    Parameters:\n",
    "    df (DataFrame): The pandas DataFrame to check for missing values.\n",
    "    \n",
    "    Returns:\n",
    "    Series: A pandas Series where each element represents the count of missing \n",
    "            values in the corresponding column of the DataFrame.\n",
    "    \"\"\"\n",
    "    # This function checks for missing entries in each column of the DataFrame \n",
    "    # and returns the count of missing entries in each column\n",
    "    return df.isnull().sum()\n",
    "\n",
    "# Printing the missing entries for the training dataset (train_df)\n",
    "print('Train_df\\n\\n', check_missing_vals(train_df))\n",
    "\n",
    "print('_' * 20)\n",
    "\n",
    "# Printing the missing entries for the test dataset (test_df)\n",
    "print('Test_df\\n\\n', check_missing_vals(test_df))"
   ]
  },
  {
   "cell_type": "markdown",
   "metadata": {},
   "source": [
    "    - The datasets do not contain any missing entries, meaning that all entries in the datasets are complete and there are no null or NaN values present in any of the columns or rows"
   ]
  },
  {
   "cell_type": "markdown",
   "metadata": {},
   "source": [
    "##### *3.2.4.Check for duplicate rows*"
   ]
  },
  {
   "cell_type": "code",
   "execution_count": 11,
   "metadata": {},
   "outputs": [
    {
     "name": "stdout",
     "output_type": "stream",
     "text": [
      "Train_df\n",
      "\n",
      " 0\n",
      "____________________\n",
      "Test_df\n",
      "\n",
      " 0\n"
     ]
    }
   ],
   "source": [
    "def check_dup(df):\n",
    "    \"\"\"\n",
    "    Checks for duplicate rows in the provided DataFrame.\n",
    "    \n",
    "    Parameters:\n",
    "    df (DataFrame): The pandas DataFrame to check for duplicate rows.\n",
    "    \n",
    "    Returns:\n",
    "    int: The total number of duplicate rows in the DataFrame.\n",
    "    \"\"\"\n",
    "    # This function checks for duplicate rows in the DataFrame and returns\n",
    "    # the count of duplicate rows found\n",
    "    return df.duplicated().sum()\n",
    "\n",
    "# Printing the duplicate entries for the training dataset (train_df)\n",
    "print('Train_df\\n\\n', check_dup(train_df))\n",
    "\n",
    "print('_' * 20)\n",
    "\n",
    "# Printing the duplicate entries for the test dataset (test_df)\n",
    "print('Test_df\\n\\n', check_dup(test_df))"
   ]
  },
  {
   "cell_type": "markdown",
   "metadata": {},
   "source": [
    "    - The datasets do not contain any duplicate entries, all rows in the datasets are unique and there are no repeated records present in any of the columns or rows"
   ]
  },
  {
   "cell_type": "markdown",
   "metadata": {},
   "source": [
    "#### __Observations__\n",
    "\n",
    "- Upon reviewing the column naming conventions, we found that none of the columns adhere to the standard naming conventions\n",
    "- The datasets are complete and do not contain any missing entries\n",
    "- The datasets are free from duplicate entries\n",
    "\n",
    "\n",
    "All identified inconsistencies will be handled in the data cleaning section to ensure that the dataset conforms to the necessary standards for analysis and modeling\n"
   ]
  },
  {
   "cell_type": "markdown",
   "metadata": {},
   "source": [
    "### **4.Data cleaning**"
   ]
  },
  {
   "cell_type": "code",
   "execution_count": null,
   "metadata": {},
   "outputs": [],
   "source": []
  },
  {
   "cell_type": "markdown",
   "metadata": {},
   "source": [
    "### **5.Exploratory Data Analysis(EDA)**"
   ]
  },
  {
   "cell_type": "code",
   "execution_count": null,
   "metadata": {},
   "outputs": [],
   "source": []
  },
  {
   "cell_type": "markdown",
   "metadata": {},
   "source": [
    "### **6.Data Preprocessing**"
   ]
  },
  {
   "cell_type": "code",
   "execution_count": null,
   "metadata": {},
   "outputs": [],
   "source": []
  },
  {
   "cell_type": "markdown",
   "metadata": {},
   "source": [
    "### **7.Model development**"
   ]
  },
  {
   "cell_type": "code",
   "execution_count": null,
   "metadata": {},
   "outputs": [],
   "source": []
  },
  {
   "cell_type": "markdown",
   "metadata": {},
   "source": [
    "### **8.Model Evaluation**"
   ]
  },
  {
   "cell_type": "code",
   "execution_count": null,
   "metadata": {},
   "outputs": [],
   "source": []
  },
  {
   "cell_type": "markdown",
   "metadata": {},
   "source": [
    "### **9.Model Deployment**"
   ]
  },
  {
   "cell_type": "code",
   "execution_count": null,
   "metadata": {},
   "outputs": [],
   "source": []
  },
  {
   "cell_type": "markdown",
   "metadata": {},
   "source": [
    "### **10.Conclusion and Recommendations**"
   ]
  },
  {
   "cell_type": "markdown",
   "metadata": {},
   "source": []
  },
  {
   "cell_type": "markdown",
   "metadata": {},
   "source": [
    "### **11.References**"
   ]
  },
  {
   "cell_type": "markdown",
   "metadata": {},
   "source": []
  }
 ],
 "metadata": {
  "kernelspec": {
   "display_name": "Python 3",
   "language": "python",
   "name": "python3"
  },
  "language_info": {
   "codemirror_mode": {
    "name": "ipython",
    "version": 3
   },
   "file_extension": ".py",
   "mimetype": "text/x-python",
   "name": "python",
   "nbconvert_exporter": "python",
   "pygments_lexer": "ipython3",
   "version": "3.8.20"
  }
 },
 "nbformat": 4,
 "nbformat_minor": 2
}
