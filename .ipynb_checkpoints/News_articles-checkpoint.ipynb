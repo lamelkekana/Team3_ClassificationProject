{
 "cells": [
  {
   "cell_type": "markdown",
   "metadata": {},
   "source": [
    "## __Unveiling Insights: Analyzing Trends and Patterns Across Diverse News Categories__"
   ]
  },
  {
   "cell_type": "markdown",
   "metadata": {},
   "source": [
    "<center>\n",
    "  <img src=\"https://cdn.pixabay.com/photo/2018/06/21/16/32/newspapers-3488861_1280.jpg\" width=\"500\"/>\n",
    "</center>\n"
   ]
  },
  {
   "cell_type": "markdown",
   "metadata": {},
   "source": [
    "# Table of Contents\n",
    "1. [**Introduction**](#1.Introduction)\n",
    "\n",
    "   1.1. [**Problem Statement**](#1.1.Problem-Statement)  \n",
    "   1.2. [**Objectives**](#1.2.Objectives)  \n",
    "2. [**Importing Packages**](#2.Importing-Packages)  \n",
    "3. [**Data loading and Inspection**](#3.Data-loading-and-Inspection)    \n",
    "4. [**Data Cleaning**](#4.Data-Cleaning)  \n",
    "5. [**Exploratory Data Analysis(EDA)**](#5.Exploratory-Data-Analysis(EDA))\n",
    "6. [**Data Preprocessing**](#6.Data-Preprocessing)\n",
    "7. [**Model development**](#7.Model-development)\n",
    "8. [**Model Evaluation**](#8.Model-Evaluation)\n",
    "9. [**Model Deployment**](#9.Model-Deployment)\n",
    "10. [**Conclusion and Recommendations**](#10.Conclusion-and-Recommendations)\n",
    "11. [**References**](#11.References)"
   ]
  },
  {
   "cell_type": "markdown",
   "metadata": {},
   "source": [
    "### **1.Introduction**"
   ]
  },
  {
   "cell_type": "markdown",
   "metadata": {},
   "source": []
  },
  {
   "cell_type": "markdown",
   "metadata": {},
   "source": [
    "#### *1.1.Problem Statement*"
   ]
  },
  {
   "cell_type": "code",
   "execution_count": null,
   "metadata": {},
   "outputs": [],
   "source": []
  },
  {
   "cell_type": "markdown",
   "metadata": {},
   "source": [
    "#### *1.2.Objectives*"
   ]
  },
  {
   "cell_type": "markdown",
   "metadata": {},
   "source": []
  },
  {
   "cell_type": "markdown",
   "metadata": {},
   "source": [
    "### **2.Importing packages**"
   ]
  },
  {
   "cell_type": "markdown",
   "metadata": {},
   "source": [
    "#### *2.1.Basic packages*"
   ]
  },
  {
   "cell_type": "code",
   "execution_count": 11,
   "metadata": {},
   "outputs": [],
   "source": [
    "# import packages\n",
    "import pandas as pd\n",
    "import numpy as np\n",
    "import matplotlib.pyplot as plt\n",
    "import seaborn as sns\n",
    "%matplotlib inline\n",
    "import re\n",
    "import warnings\n",
    "warnings.filterwarnings(\"ignore\")"
   ]
  },
  {
   "cell_type": "markdown",
   "metadata": {},
   "source": [
    "### *2.2.Preprocessing Packages*"
   ]
  },
  {
   "cell_type": "code",
   "execution_count": 13,
   "metadata": {},
   "outputs": [
    {
     "name": "stderr",
     "output_type": "stream",
     "text": [
      "[nltk_data] Downloading package punkt to\n",
      "[nltk_data]     C:\\Users\\bhemb\\AppData\\Roaming\\nltk_data...\n",
      "[nltk_data]   Package punkt is already up-to-date!\n",
      "[nltk_data] Downloading package stopwords to\n",
      "[nltk_data]     C:\\Users\\bhemb\\AppData\\Roaming\\nltk_data...\n",
      "[nltk_data]   Package stopwords is already up-to-date!\n",
      "[nltk_data] Downloading package wordnet to\n",
      "[nltk_data]     C:\\Users\\bhemb\\AppData\\Roaming\\nltk_data...\n",
      "[nltk_data]   Package wordnet is already up-to-date!\n",
      "[nltk_data] Downloading package punkt_tab to\n",
      "[nltk_data]     C:\\Users\\bhemb\\AppData\\Roaming\\nltk_data...\n",
      "[nltk_data]   Package punkt_tab is already up-to-date!\n"
     ]
    }
   ],
   "source": [
    "import nltk\n",
    "nltk.download(['punkt', 'stopwords', 'wordnet', 'punkt_tab'])\n",
    "from sklearn.model_selection import train_test_split\n",
    "from sklearn.preprocessing import LabelEncoder\n",
    "from sklearn.feature_extraction.text import TfidfVectorizer\n",
    "from nltk.corpus import stopwords\n",
    "from nltk.stem import WordNetLemmatizer\n",
    "from nltk.tokenize import word_tokenize\n",
    "from scipy.sparse import hstack"
   ]
  },
  {
   "cell_type": "markdown",
   "metadata": {},
   "source": [
    "#### *2.2.Model development packages*"
   ]
  },
  {
   "cell_type": "code",
   "execution_count": 15,
   "metadata": {},
   "outputs": [],
   "source": [
    "from sklearn.neighbors import KNeighborsClassifier\n",
    "import mlflow\n",
    "import mlflow.sklearn\n",
    "from sklearn.metrics import make_scorer\n",
    "from sklearn.model_selection import GridSearchCV\n",
    "from sklearn.metrics import classification_report\n",
    "from sklearn.metrics import log_loss\n",
    "from matplotlib.colors import ListedColormap\n",
    "from sklearn.metrics import confusion_matrix\n",
    "from sklearn.metrics import ConfusionMatrixDisplay\n",
    "from sklearn.neural_network import MLPClassifier\n",
    "from sklearn.naive_bayes import MultinomialNB\n",
    "from sklearn.ensemble import AdaBoostClassifier\n",
    "from sklearn.tree import DecisionTreeClassifier\n",
    "from sklearn.linear_model import LogisticRegression\n",
    "from sklearn.ensemble import RandomForestClassifier\n",
    "from sklearn.svm import SVC\n",
    "from sklearn.model_selection import RandomizedSearchCV"
   ]
  },
  {
   "cell_type": "markdown",
   "metadata": {},
   "source": [
    "#### *2.3.Model evaluation packages*"
   ]
  },
  {
   "cell_type": "code",
   "execution_count": null,
   "metadata": {},
   "outputs": [],
   "source": []
  },
  {
   "cell_type": "markdown",
   "metadata": {},
   "source": [
    "### **3.Data loading and Inspection**"
   ]
  },
  {
   "cell_type": "markdown",
   "metadata": {},
   "source": [
    "#### ***3.1.Data loading***"
   ]
  },
  {
   "cell_type": "code",
   "execution_count": 19,
   "metadata": {},
   "outputs": [],
   "source": [
    "# url of the csv file\n",
    "train_url = \"https://github.com/DareSandtech/2407FTDS_Classification_Project/raw/refs/heads/main/Data/processed/train.csv\"\n",
    "test_url = \"https://github.com/DareSandtech/2407FTDS_Classification_Project/raw/refs/heads/main/Data/processed/test.csv\"\n",
    "\n",
    "# load train data\n",
    "train_df = pd.read_csv(train_url)\n",
    "\n",
    "# load test data\n",
    "test_df = pd.read_csv(test_url)"
   ]
  },
  {
   "cell_type": "markdown",
   "metadata": {},
   "source": [
    "#### ***3.2.Data Inspection***"
   ]
  },
  {
   "cell_type": "markdown",
   "metadata": {},
   "source": [
    "##### *3.2.1.Data Overview*"
   ]
  },
  {
   "cell_type": "markdown",
   "metadata": {},
   "source": [
    "To begin, we will first look at the overview of our datasets and inspect their shapes to understand the structure of the data."
   ]
  },
  {
   "cell_type": "code",
   "execution_count": 23,
   "metadata": {},
   "outputs": [
    {
     "name": "stdout",
     "output_type": "stream",
     "text": [
      "Shape of the train dataset: (5520, 5)\n",
      "Shape of the test dataset: (2000, 5)\n"
     ]
    }
   ],
   "source": [
    "# Check the shape of the DataFrame\n",
    "print(\"Shape of the train dataset:\", train_df.shape)\n",
    "print(\"Shape of the test dataset:\", test_df.shape)"
   ]
  },
  {
   "cell_type": "code",
   "execution_count": 24,
   "metadata": {},
   "outputs": [
    {
     "data": {
      "text/html": [
       "<div>\n",
       "<style scoped>\n",
       "    .dataframe tbody tr th:only-of-type {\n",
       "        vertical-align: middle;\n",
       "    }\n",
       "\n",
       "    .dataframe tbody tr th {\n",
       "        vertical-align: top;\n",
       "    }\n",
       "\n",
       "    .dataframe thead th {\n",
       "        text-align: right;\n",
       "    }\n",
       "</style>\n",
       "<table border=\"1\" class=\"dataframe\">\n",
       "  <thead>\n",
       "    <tr style=\"text-align: right;\">\n",
       "      <th></th>\n",
       "      <th>headlines</th>\n",
       "      <th>description</th>\n",
       "      <th>content</th>\n",
       "      <th>url</th>\n",
       "      <th>category</th>\n",
       "    </tr>\n",
       "  </thead>\n",
       "  <tbody>\n",
       "    <tr>\n",
       "      <th>0</th>\n",
       "      <td>RBI revises definition of politically-exposed ...</td>\n",
       "      <td>The central bank has also asked chairpersons a...</td>\n",
       "      <td>The Reserve Bank of India (RBI) has changed th...</td>\n",
       "      <td>https://indianexpress.com/article/business/ban...</td>\n",
       "      <td>business</td>\n",
       "    </tr>\n",
       "    <tr>\n",
       "      <th>1</th>\n",
       "      <td>NDTV Q2 net profit falls 57.4% to Rs 5.55 cror...</td>\n",
       "      <td>NDTV's consolidated revenue from operations wa...</td>\n",
       "      <td>Broadcaster New Delhi Television Ltd on Monday...</td>\n",
       "      <td>https://indianexpress.com/article/business/com...</td>\n",
       "      <td>business</td>\n",
       "    </tr>\n",
       "    <tr>\n",
       "      <th>2</th>\n",
       "      <td>Akasa Air ‘well capitalised’, can grow much fa...</td>\n",
       "      <td>The initial share sale will be open for public...</td>\n",
       "      <td>Homegrown server maker Netweb Technologies Ind...</td>\n",
       "      <td>https://indianexpress.com/article/business/mar...</td>\n",
       "      <td>business</td>\n",
       "    </tr>\n",
       "    <tr>\n",
       "      <th>3</th>\n",
       "      <td>India’s current account deficit declines sharp...</td>\n",
       "      <td>The current account deficit (CAD) was 3.8 per ...</td>\n",
       "      <td>India’s current account deficit declined sharp...</td>\n",
       "      <td>https://indianexpress.com/article/business/eco...</td>\n",
       "      <td>business</td>\n",
       "    </tr>\n",
       "    <tr>\n",
       "      <th>4</th>\n",
       "      <td>States borrowing cost soars to 7.68%, highest ...</td>\n",
       "      <td>The prices shot up reflecting the overall high...</td>\n",
       "      <td>States have been forced to pay through their n...</td>\n",
       "      <td>https://indianexpress.com/article/business/eco...</td>\n",
       "      <td>business</td>\n",
       "    </tr>\n",
       "  </tbody>\n",
       "</table>\n",
       "</div>"
      ],
      "text/plain": [
       "                                           headlines  \\\n",
       "0  RBI revises definition of politically-exposed ...   \n",
       "1  NDTV Q2 net profit falls 57.4% to Rs 5.55 cror...   \n",
       "2  Akasa Air ‘well capitalised’, can grow much fa...   \n",
       "3  India’s current account deficit declines sharp...   \n",
       "4  States borrowing cost soars to 7.68%, highest ...   \n",
       "\n",
       "                                         description  \\\n",
       "0  The central bank has also asked chairpersons a...   \n",
       "1  NDTV's consolidated revenue from operations wa...   \n",
       "2  The initial share sale will be open for public...   \n",
       "3  The current account deficit (CAD) was 3.8 per ...   \n",
       "4  The prices shot up reflecting the overall high...   \n",
       "\n",
       "                                             content  \\\n",
       "0  The Reserve Bank of India (RBI) has changed th...   \n",
       "1  Broadcaster New Delhi Television Ltd on Monday...   \n",
       "2  Homegrown server maker Netweb Technologies Ind...   \n",
       "3  India’s current account deficit declined sharp...   \n",
       "4  States have been forced to pay through their n...   \n",
       "\n",
       "                                                 url  category  \n",
       "0  https://indianexpress.com/article/business/ban...  business  \n",
       "1  https://indianexpress.com/article/business/com...  business  \n",
       "2  https://indianexpress.com/article/business/mar...  business  \n",
       "3  https://indianexpress.com/article/business/eco...  business  \n",
       "4  https://indianexpress.com/article/business/eco...  business  "
      ]
     },
     "execution_count": 24,
     "metadata": {},
     "output_type": "execute_result"
    }
   ],
   "source": [
    "# Display the first 5 rows of the train_df to get a quick overview of the data\n",
    "train_df.head()"
   ]
  },
  {
   "cell_type": "code",
   "execution_count": 25,
   "metadata": {},
   "outputs": [
    {
     "data": {
      "text/html": [
       "<div>\n",
       "<style scoped>\n",
       "    .dataframe tbody tr th:only-of-type {\n",
       "        vertical-align: middle;\n",
       "    }\n",
       "\n",
       "    .dataframe tbody tr th {\n",
       "        vertical-align: top;\n",
       "    }\n",
       "\n",
       "    .dataframe thead th {\n",
       "        text-align: right;\n",
       "    }\n",
       "</style>\n",
       "<table border=\"1\" class=\"dataframe\">\n",
       "  <thead>\n",
       "    <tr style=\"text-align: right;\">\n",
       "      <th></th>\n",
       "      <th>headlines</th>\n",
       "      <th>description</th>\n",
       "      <th>content</th>\n",
       "      <th>url</th>\n",
       "      <th>category</th>\n",
       "    </tr>\n",
       "  </thead>\n",
       "  <tbody>\n",
       "    <tr>\n",
       "      <th>0</th>\n",
       "      <td>NLC India wins contract for power supply to Ra...</td>\n",
       "      <td>State-owned firm NLC India Ltd (NLCIL) on Mond...</td>\n",
       "      <td>State-owned firm NLC India Ltd (NLCIL) on Mond...</td>\n",
       "      <td>https://indianexpress.com/article/business/com...</td>\n",
       "      <td>business</td>\n",
       "    </tr>\n",
       "    <tr>\n",
       "      <th>1</th>\n",
       "      <td>SBI Clerk prelims exams dates announced; admit...</td>\n",
       "      <td>SBI Clerk Prelims Exam: The SBI Clerk prelims ...</td>\n",
       "      <td>SBI Clerk Prelims Exam: The State Bank of Indi...</td>\n",
       "      <td>https://indianexpress.com/article/education/sb...</td>\n",
       "      <td>education</td>\n",
       "    </tr>\n",
       "    <tr>\n",
       "      <th>2</th>\n",
       "      <td>Golden Globes: Michelle Yeoh, Will Ferrell, An...</td>\n",
       "      <td>Barbie is the top nominee this year, followed ...</td>\n",
       "      <td>Michelle Yeoh, Will Ferrell, Angela Bassett an...</td>\n",
       "      <td>https://indianexpress.com/article/entertainmen...</td>\n",
       "      <td>entertainment</td>\n",
       "    </tr>\n",
       "    <tr>\n",
       "      <th>3</th>\n",
       "      <td>OnePlus Nord 3 at Rs 27,999 as part of new pri...</td>\n",
       "      <td>New deal makes the OnePlus Nord 3 an easy purc...</td>\n",
       "      <td>In our review of the OnePlus Nord 3 5G, we pra...</td>\n",
       "      <td>https://indianexpress.com/article/technology/t...</td>\n",
       "      <td>technology</td>\n",
       "    </tr>\n",
       "    <tr>\n",
       "      <th>4</th>\n",
       "      <td>Adani family’s partners used ‘opaque’ funds to...</td>\n",
       "      <td>Citing review of files from multiple tax haven...</td>\n",
       "      <td>Millions of dollars were invested in some publ...</td>\n",
       "      <td>https://indianexpress.com/article/business/ada...</td>\n",
       "      <td>business</td>\n",
       "    </tr>\n",
       "  </tbody>\n",
       "</table>\n",
       "</div>"
      ],
      "text/plain": [
       "                                           headlines  \\\n",
       "0  NLC India wins contract for power supply to Ra...   \n",
       "1  SBI Clerk prelims exams dates announced; admit...   \n",
       "2  Golden Globes: Michelle Yeoh, Will Ferrell, An...   \n",
       "3  OnePlus Nord 3 at Rs 27,999 as part of new pri...   \n",
       "4  Adani family’s partners used ‘opaque’ funds to...   \n",
       "\n",
       "                                         description  \\\n",
       "0  State-owned firm NLC India Ltd (NLCIL) on Mond...   \n",
       "1  SBI Clerk Prelims Exam: The SBI Clerk prelims ...   \n",
       "2  Barbie is the top nominee this year, followed ...   \n",
       "3  New deal makes the OnePlus Nord 3 an easy purc...   \n",
       "4  Citing review of files from multiple tax haven...   \n",
       "\n",
       "                                             content  \\\n",
       "0  State-owned firm NLC India Ltd (NLCIL) on Mond...   \n",
       "1  SBI Clerk Prelims Exam: The State Bank of Indi...   \n",
       "2  Michelle Yeoh, Will Ferrell, Angela Bassett an...   \n",
       "3  In our review of the OnePlus Nord 3 5G, we pra...   \n",
       "4  Millions of dollars were invested in some publ...   \n",
       "\n",
       "                                                 url       category  \n",
       "0  https://indianexpress.com/article/business/com...       business  \n",
       "1  https://indianexpress.com/article/education/sb...      education  \n",
       "2  https://indianexpress.com/article/entertainmen...  entertainment  \n",
       "3  https://indianexpress.com/article/technology/t...     technology  \n",
       "4  https://indianexpress.com/article/business/ada...       business  "
      ]
     },
     "execution_count": 25,
     "metadata": {},
     "output_type": "execute_result"
    }
   ],
   "source": [
    "# Display the first 5 rows of test_df to get a quick overview of the data\n",
    "test_df.head()"
   ]
  },
  {
   "cell_type": "markdown",
   "metadata": {},
   "source": [
    "##### *3.2.2.check for column naming conventions*"
   ]
  },
  {
   "cell_type": "code",
   "execution_count": 27,
   "metadata": {},
   "outputs": [],
   "source": [
    "# Function to Verify If Column Names Adhere to the Correct Naming Convention\n",
    "def check_col_naming_convention(df):\n",
    "    \"\"\"\n",
    "    This function checks if the column names in the given DataFrame follow the \n",
    "    Capitalized Snake Case convention (e.g., 'Order_Date', 'Customer_Name').\n",
    "    \n",
    "    Args:\n",
    "    df (pandas.DataFrame): The DataFrame to check.\n",
    "    \n",
    "    Returns:\n",
    "    dict: A dictionary containing two lists:\n",
    "          - 'compliant': Columns that follow Capitalized Snake Case.\n",
    "          - 'non_compliant': Columns that do not follow Capitalized Snake Case.\n",
    "    \"\"\"\n",
    "    \n",
    "    # Regular expression to check for Capitalized Snake Case\n",
    "    def is_capitalized_snake_case(col):\n",
    "        return bool(re.match(r'^[A-Z][a-z0-9]*(_[A-Z][a-z0-9]*)*$', col))\n",
    "    \n",
    "    # Check all columns\n",
    "    compliant_columns = [col for col in df.columns if is_capitalized_snake_case(col)]\n",
    "    non_compliant_columns = [col for col in df.columns if not is_capitalized_snake_case(col)]\n",
    "    \n",
    "    return {\n",
    "        'compliant': compliant_columns,\n",
    "        'non_compliant': non_compliant_columns\n",
    "    }"
   ]
  },
  {
   "cell_type": "code",
   "execution_count": 28,
   "metadata": {},
   "outputs": [
    {
     "name": "stdout",
     "output_type": "stream",
     "text": [
      "Check column naming conventions for train_df\n",
      "{'compliant': [], 'non_compliant': ['headlines', 'description', 'content', 'url', 'category']}\n",
      "\n",
      "Check column naming conventions for test_df\n",
      "{'compliant': [], 'non_compliant': ['headlines', 'description', 'content', 'url', 'category']}\n"
     ]
    }
   ],
   "source": [
    "# Applying the 'check_col_naming_convention() function' on the datasets to see which column names are not compliant\n",
    "print('Check column naming conventions for train_df')\n",
    "print(check_col_naming_convention(train_df))\n",
    "print()\n",
    "print('Check column naming conventions for test_df')\n",
    "print(check_col_naming_convention(test_df))"
   ]
  },
  {
   "cell_type": "markdown",
   "metadata": {},
   "source": [
    "    - It seems that none of our column names are compliant, as they all start with lowercase letters, which is inconsistent with the standard naming conventions "
   ]
  },
  {
   "cell_type": "markdown",
   "metadata": {},
   "source": [
    "##### *3.2.3.Check for missing entries*"
   ]
  },
  {
   "cell_type": "code",
   "execution_count": 31,
   "metadata": {},
   "outputs": [
    {
     "name": "stdout",
     "output_type": "stream",
     "text": [
      "Train_df\n",
      "\n",
      " headlines      0\n",
      "description    0\n",
      "content        0\n",
      "url            0\n",
      "category       0\n",
      "dtype: int64\n",
      "____________________\n",
      "Test_df\n",
      "\n",
      " headlines      0\n",
      "description    0\n",
      "content        0\n",
      "url            0\n",
      "category       0\n",
      "dtype: int64\n"
     ]
    }
   ],
   "source": [
    "def check_missing_vals(df):\n",
    "    \"\"\"\n",
    "    Checks for missing (null) values in each column of the provided DataFrame.\n",
    "    \n",
    "    Parameters:\n",
    "    df (DataFrame): The pandas DataFrame to check for missing values.\n",
    "    \n",
    "    Returns:\n",
    "    Series: A pandas Series where each element represents the count of missing \n",
    "            values in the corresponding column of the DataFrame.\n",
    "    \"\"\"\n",
    "    # This function checks for missing entries in each column of the DataFrame \n",
    "    # and returns the count of missing entries in each column\n",
    "    return df.isnull().sum()\n",
    "\n",
    "# Printing the missing entries for the training dataset (train_df)\n",
    "print('Train_df\\n\\n', check_missing_vals(train_df))\n",
    "\n",
    "print('_' * 20)\n",
    "\n",
    "# Printing the missing entries for the test dataset (test_df)\n",
    "print('Test_df\\n\\n', check_missing_vals(test_df))"
   ]
  },
  {
   "cell_type": "markdown",
   "metadata": {},
   "source": [
    "    - The datasets do not contain any missing entries, meaning that all entries in the datasets are complete and there are no null or NaN values present in any of the columns or rows"
   ]
  },
  {
   "cell_type": "markdown",
   "metadata": {},
   "source": [
    "##### *3.2.4.Check for duplicate rows*"
   ]
  },
  {
   "cell_type": "code",
   "execution_count": 34,
   "metadata": {},
   "outputs": [
    {
     "name": "stdout",
     "output_type": "stream",
     "text": [
      "Train_df\n",
      "\n",
      " 0\n",
      "____________________\n",
      "Test_df\n",
      "\n",
      " 0\n"
     ]
    }
   ],
   "source": [
    "def check_dup_rows(df):\n",
    "    \"\"\"\n",
    "    Checks for duplicate rows in the provided DataFrame.\n",
    "    \n",
    "    Parameters:\n",
    "    df (DataFrame): The pandas DataFrame to check for duplicate rows.\n",
    "    \n",
    "    Returns:\n",
    "    int: The total number of duplicate rows in the DataFrame.\n",
    "    \"\"\"\n",
    "    # This function checks for duplicate rows in the DataFrame and returns\n",
    "    # the count of duplicate rows found\n",
    "    return df.duplicated().sum()\n",
    "\n",
    "# Printing the duplicate entries for the training dataset (train_df)\n",
    "print('Train_df\\n\\n', check_dup_rows(train_df))\n",
    "\n",
    "print('_' * 20)\n",
    "\n",
    "# Printing the duplicate entries for the test dataset (test_df)\n",
    "print('Test_df\\n\\n', check_dup_rows(test_df))"
   ]
  },
  {
   "cell_type": "markdown",
   "metadata": {},
   "source": [
    "    - The datasets do not contain any duplicate entries, all rows in the datasets are unique and there are no repeated records present in any of the columns or rows"
   ]
  },
  {
   "cell_type": "markdown",
   "metadata": {},
   "source": [
    "##### *3.2.5.Check for duplicates column-wise*"
   ]
  },
  {
   "cell_type": "code",
   "execution_count": 37,
   "metadata": {},
   "outputs": [
    {
     "name": "stdout",
     "output_type": "stream",
     "text": [
      "Train_df\n",
      "\n",
      " {'headlines': 8, 'description': 12, 'content': 7, 'url': 6, 'category': 5515}\n",
      "____________________\n",
      "Test_df\n",
      "\n",
      " {'headlines': 0, 'description': 0, 'content': 0, 'url': 0, 'category': 1995}\n"
     ]
    }
   ],
   "source": [
    "def check_dup_cols(df):\n",
    "    \"\"\"\n",
    "    Checks for duplicates column-wise in the provided DataFrame.\n",
    "    \n",
    "    Parameters:\n",
    "    df (DataFrame): The pandas DataFrame to check for duplicates.\n",
    "    \n",
    "    Returns:\n",
    "    Dictionary of the column names and the count of duplicates found\n",
    "    \"\"\"\n",
    "    # Getting column names and creating dictionary to store count of duplicates\n",
    "    cols = df.columns\n",
    "    dups = {}\n",
    "\n",
    "    # Finding the duplicates\n",
    "    for col in cols:\n",
    "        dups[col] = df[col].duplicated().sum()\n",
    "    \n",
    "    return dups\n",
    "\n",
    "# Printing the duplicate entries for the training dataset (train_df)\n",
    "print('Train_df\\n\\n', check_dup_cols(train_df))\n",
    "\n",
    "print('_' * 20)\n",
    "\n",
    "# Printing the duplicate entries for the test dataset (test_df)\n",
    "print('Test_df\\n\\n', check_dup_cols(test_df))"
   ]
  },
  {
   "cell_type": "markdown",
   "metadata": {},
   "source": [
    "    - The train dataset contains duplicate entries column-wise. The category column understandably contains duplicates, however, the other columns ideally should not contain any duplicates. For example, each url should be unique and the content of the newspaper should also be unique. As such, this requires some action in the data cleaning. "
   ]
  },
  {
   "cell_type": "markdown",
   "metadata": {},
   "source": [
    "#### __Observations__\n",
    "\n",
    "- Upon reviewing the column naming conventions, we found that none of the columns adhere to the standard naming conventions\n",
    "- The datasets are complete and do not contain any missing entries\n",
    "- The train dataset contains duplicates in columns where duplicate entries should not exist\n",
    "\n",
    "\n",
    "All identified inconsistencies will be handled in the data cleaning section to ensure that the dataset conforms to the necessary standards for analysis and modeling\n"
   ]
  },
  {
   "cell_type": "markdown",
   "metadata": {},
   "source": [
    "### **4.Data cleaning**"
   ]
  },
  {
   "cell_type": "markdown",
   "metadata": {},
   "source": [
    "#### ***4.1.Removing Duplicates***"
   ]
  },
  {
   "cell_type": "code",
   "execution_count": 42,
   "metadata": {},
   "outputs": [
    {
     "name": "stdout",
     "output_type": "stream",
     "text": [
      "{'headlines': 0, 'description': 0, 'content': 0, 'url': 0, 'category': 5479}\n"
     ]
    }
   ],
   "source": [
    "def remove_dups(df):\n",
    "    \"\"\"\n",
    "    Removes the rows containing duplicates column-wise\n",
    "    \n",
    "    Parameters:\n",
    "    df (DataFrame): The pandas DataFrame to remove duplicates.\n",
    "    \n",
    "    Returns:\n",
    "    DataFrame without duplicates\n",
    "    \"\"\"\n",
    "    # Getting column names and dropping the category column\n",
    "    cols = df.columns\n",
    "    cols = cols.drop(cols[-1])\n",
    "\n",
    "    # Removing the rows in which there are duplicates column-wise\n",
    "    for col in cols:\n",
    "        dups = df[df.duplicated(subset=[col], keep='first')]\n",
    "        df = df[~df[col].isin(dups[col])]\n",
    "\n",
    "    # Returning the DataFrame without duplicates\n",
    "    return df\n",
    "\n",
    "# Setting the train DataFrame to the duplicate-free DataFrame\n",
    "train_df = remove_dups(train_df)\n",
    "\n",
    "# Confirming that there are no duplicates\n",
    "print(check_dup_cols(train_df))"
   ]
  },
  {
   "cell_type": "markdown",
   "metadata": {},
   "source": [
    "Since the total duplicates from each column account for less than 1% of the dataset, amputating them would not have a significant impact on the data. So, they have been removed using the `remove_dups()` function."
   ]
  },
  {
   "cell_type": "markdown",
   "metadata": {},
   "source": [
    "#### ***4.2.Fixing Column Names***"
   ]
  },
  {
   "cell_type": "code",
   "execution_count": 45,
   "metadata": {},
   "outputs": [
    {
     "data": {
      "text/plain": [
       "\"Train data column names: ['Headlines' 'Description' 'Content' 'Url' 'Category']\""
      ]
     },
     "metadata": {},
     "output_type": "display_data"
    },
    {
     "data": {
      "text/plain": [
       "\"Test data column names: ['Headlines' 'Description' 'Content' 'Url' 'Category']\""
      ]
     },
     "metadata": {},
     "output_type": "display_data"
    }
   ],
   "source": [
    "def fix_col_names(train_df, test_df):\n",
    "    \"\"\"\n",
    "    This function updates column names of the data frame\n",
    "    to standard naming conventions.\n",
    "\n",
    "    Parameters:\n",
    "    train_df and test_df: Two Pandas whose column names\n",
    "    will be fixed.\n",
    "\n",
    "    Returns:\n",
    "    The fixed train_df and test_df dataframes.\n",
    "    \"\"\"\n",
    "\n",
    "    # Getting the column names\n",
    "    col_names = train_df.columns\n",
    "\n",
    "    # Capitilizing the column names\n",
    "    for col in col_names:\n",
    "        train_df = train_df.rename(columns={col: col.capitalize()})\n",
    "        test_df = test_df.rename(columns={col: col.capitalize()})\n",
    "\n",
    "    return train_df, test_df\n",
    "\n",
    "# Fixing the column names and displaying the updated column names\n",
    "train_df, test_df = fix_col_names(train_df, test_df)\n",
    "display(f'Train data column names: {train_df.columns.values}',\n",
    "        f'Test data column names: {test_df.columns.values}')"
   ]
  },
  {
   "cell_type": "markdown",
   "metadata": {},
   "source": [
    "The column names for the datasets have been corrected to meet the conventional naming standards of capitilizing the first letter of the names."
   ]
  },
  {
   "cell_type": "markdown",
   "metadata": {},
   "source": [
    "#### __Observations__\n",
    "\n",
    "- The duplicates have been removed from the datasets\n",
    "- The column names have been renamed to meet conventional naming standards\n",
    "\n",
    "All inconsistencies identified in the data inspection section have been corrected.\n"
   ]
  },
  {
   "cell_type": "markdown",
   "metadata": {},
   "source": [
    "### **5.Exploratory Data Analysis(EDA)**"
   ]
  },
  {
   "cell_type": "markdown",
   "metadata": {},
   "source": [
    "#### ***5.1.Visualising The Training Data***"
   ]
  },
  {
   "cell_type": "code",
   "execution_count": 50,
   "metadata": {},
   "outputs": [
    {
     "data": {
      "image/png": "[encoded data removed]",
      "text/plain": [
       "<Figure size 1200x600 with 2 Axes>"
      ]
     },
     "metadata": {},
     "output_type": "display_data"
    }
   ],
   "source": [
    "# Setting the canvas for the figures\n",
    "fig1, axes = plt.subplots(1, 2, figsize=(12, 6))\n",
    "\n",
    "# Plotting the frequency (count) chart for train_df\n",
    "order = train_df['Category'].value_counts().index\n",
    "sns.countplot(x=train_df['Category'],palette=['#988558'], hue=train_df['Category'],\n",
    "              order=order, ax=axes[0])\n",
    "axes[0].set_xlabel('Category', labelpad=15, fontsize=11)\n",
    "axes[0].set_ylabel('Count', labelpad=10, fontsize=11)\n",
    "axes[0].set_title('Count of Categories', weight='bold', fontsize=14)\n",
    "axes[0].set_ylim(0, 1700)\n",
    "for index, data in enumerate(train_df['Category'].value_counts()):\n",
    "    axes[0].text(x=index, y=data+29, s=f'{data}', ha='center')\n",
    "\n",
    "# Plotting the pie chart showing the % composition of each category for the train_df\n",
    "freq_train = train_df['Category'].value_counts().sort_values(ascending=True)\n",
    "pie_colors = ['#F5DEB3', '#E5AA70', '#D27D2D', '#A0522D', '#913831']\n",
    "\n",
    "axes[1].pie(freq_train, labels=freq_train.index, autopct='%1.0f%%', \n",
    "            colors=sns.color_palette(pie_colors, len(freq_train)),\n",
    "            startangle=90)\n",
    "axes[1].set_title('Percentage Composition', weight='bold', fontsize=14)\n",
    "\n",
    "fig1.subplots_adjust(left=0.1, right=1, bottom=0.2, top=0.8, wspace=0.4)\n",
    "plt.show()"
   ]
  },
  {
   "cell_type": "markdown",
   "metadata": {},
   "source": [
    "The train dataset has a total of 5484 rows. The `education` category has the most data, accounting for 27% of the data, followed by `technology` at 23%. `business` accounts for 20%, `entertainment` with 18%, and `sports` with the least amount of data at 12%. This shows an imbalance in the training data, with the category with the most data having more than double the amount of data as the category with the least amount of data."
   ]
  },
  {
   "cell_type": "markdown",
   "metadata": {},
   "source": [
    "#### ***5.2.Visualising The Testing Data***"
   ]
  },
  {
   "cell_type": "code",
   "execution_count": 53,
   "metadata": {},
   "outputs": [
    {
     "data": {
      "image/png": "[encoded data removed]",
      "text/plain": [
       "<Figure size 1200x600 with 2 Axes>"
      ]
     },
     "metadata": {},
     "output_type": "display_data"
    }
   ],
   "source": [
    "# Setting the canvas for the figures\n",
    "fig2, axes = plt.subplots(1, 2, figsize=(12, 6))\n",
    "\n",
    "# Plotting the frequency (count) chart for the test_df\n",
    "order = test_df['Category'].value_counts().index\n",
    "sns.countplot(x=test_df['Category'],palette=['#988558'], hue=test_df['Category'],\n",
    "              order=order, ax=axes[0])\n",
    "axes[0].set_xlabel('Category', labelpad=15, fontsize=11)\n",
    "axes[0].set_ylabel('Count', labelpad=10, fontsize=11)\n",
    "axes[0].set_title('Count of Categories', weight='bold', fontsize=14)\n",
    "axes[0].set_ylim(0, 450)\n",
    "for index, data in enumerate(test_df['Category'].value_counts()):\n",
    "    axes[0].text(x=index, y=data+7, s=f'{data}', ha='center')\n",
    "\n",
    "# Plotting the pie chart showing the % composition of each category for the test_df\n",
    "freq_test = test_df['Category'].value_counts().sort_values(ascending=True)\n",
    "\n",
    "axes[1].pie(freq_test, labels=freq_test.index, autopct='%1.0f%%', \n",
    "            colors=sns.color_palette(pie_colors, len(freq_test)),\n",
    "            startangle=90)\n",
    "axes[1].set_title('Percentage Composition', weight='bold', fontsize=14)\n",
    "\n",
    "fig2.subplots_adjust(left=0, right=1, bottom=0.2, top=0.8, wspace=0.4)\n",
    "plt.show()"
   ]
  },
  {
   "cell_type": "markdown",
   "metadata": {},
   "source": [
    "The testing dataset contains a total of 2000 data entries with an equal split of 20% of the data for each category. This dataset is balanced."
   ]
  },
  {
   "cell_type": "markdown",
   "metadata": {},
   "source": [
    "#### ***5.3.Checking The Category Name In The URLs***"
   ]
  },
  {
   "cell_type": "code",
   "execution_count": 56,
   "metadata": {},
   "outputs": [
    {
     "name": "stdout",
     "output_type": "stream",
     "text": [
      "Train_df\n",
      " ______________________________________________________________________________________________________________________________________________________\n",
      "Number of categories found in the urls: 5525\n",
      "Number of rows with at least one category in url: 5482\n",
      "The length of the dataset: 5484\n",
      "Number of rows with more than one category in url: 43\n",
      "Number of rows without a category in their url: 2\n",
      "\n",
      " Rows without categories\n",
      "\n"
     ]
    },
    {
     "data": {
      "text/html": [
       "<div>\n",
       "<style scoped>\n",
       "    .dataframe tbody tr th:only-of-type {\n",
       "        vertical-align: middle;\n",
       "    }\n",
       "\n",
       "    .dataframe tbody tr th {\n",
       "        vertical-align: top;\n",
       "    }\n",
       "\n",
       "    .dataframe thead th {\n",
       "        text-align: right;\n",
       "    }\n",
       "</style>\n",
       "<table border=\"1\" class=\"dataframe\">\n",
       "  <thead>\n",
       "    <tr style=\"text-align: right;\">\n",
       "      <th></th>\n",
       "      <th>Headlines</th>\n",
       "      <th>Description</th>\n",
       "      <th>Content</th>\n",
       "      <th>Url</th>\n",
       "      <th>Category</th>\n",
       "    </tr>\n",
       "  </thead>\n",
       "  <tbody>\n",
       "    <tr>\n",
       "      <th>353</th>\n",
       "      <td>Adoption of CBDCs can make cross-border paymen...</td>\n",
       "      <td>RBI Governor said the RBI is slowly and steadi...</td>\n",
       "      <td>Reserve Bank of India (RBI) Governor Shaktikan...</td>\n",
       "      <td>https://indianexpress.com/article/banking-and-...</td>\n",
       "      <td>business</td>\n",
       "    </tr>\n",
       "    <tr>\n",
       "      <th>1706</th>\n",
       "      <td>Century for Ballance on Zimbabwe debut against...</td>\n",
       "      <td>Ballance, who switched allegiance last year an...</td>\n",
       "      <td>Former England test batsman Gary Ballance scor...</td>\n",
       "      <td>https://indianexpress.com/article/cricket/cent...</td>\n",
       "      <td>sports</td>\n",
       "    </tr>\n",
       "  </tbody>\n",
       "</table>\n",
       "</div>"
      ],
      "text/plain": [
       "                                              Headlines  \\\n",
       "353   Adoption of CBDCs can make cross-border paymen...   \n",
       "1706  Century for Ballance on Zimbabwe debut against...   \n",
       "\n",
       "                                            Description  \\\n",
       "353   RBI Governor said the RBI is slowly and steadi...   \n",
       "1706  Ballance, who switched allegiance last year an...   \n",
       "\n",
       "                                                Content  \\\n",
       "353   Reserve Bank of India (RBI) Governor Shaktikan...   \n",
       "1706  Former England test batsman Gary Ballance scor...   \n",
       "\n",
       "                                                    Url  Category  \n",
       "353   https://indianexpress.com/article/banking-and-...  business  \n",
       "1706  https://indianexpress.com/article/cricket/cent...    sports  "
      ]
     },
     "metadata": {},
     "output_type": "display_data"
    },
    {
     "name": "stdout",
     "output_type": "stream",
     "text": [
      "\n",
      " ______________________________________________________________________________________________________________________________________________________ \n",
      " ______________________________________________________________________________________________________________________________________________________\n",
      "\n",
      "Test_df\n",
      " ______________________________________________________________________________________________________________________________________________________\n",
      "Number of categories found in the urls: 2011\n",
      "Number of rows with at least one category in url: 2000\n",
      "The length of the dataset: 2000\n",
      "Number of rows with more than one category in url: 11\n",
      "Number of rows without a category in their url: 0\n",
      "\n",
      " Rows without categories\n",
      "\n"
     ]
    },
    {
     "data": {
      "text/html": [
       "<div>\n",
       "<style scoped>\n",
       "    .dataframe tbody tr th:only-of-type {\n",
       "        vertical-align: middle;\n",
       "    }\n",
       "\n",
       "    .dataframe tbody tr th {\n",
       "        vertical-align: top;\n",
       "    }\n",
       "\n",
       "    .dataframe thead th {\n",
       "        text-align: right;\n",
       "    }\n",
       "</style>\n",
       "<table border=\"1\" class=\"dataframe\">\n",
       "  <thead>\n",
       "    <tr style=\"text-align: right;\">\n",
       "      <th></th>\n",
       "      <th>Headlines</th>\n",
       "      <th>Description</th>\n",
       "      <th>Content</th>\n",
       "      <th>Url</th>\n",
       "      <th>Category</th>\n",
       "    </tr>\n",
       "  </thead>\n",
       "  <tbody>\n",
       "  </tbody>\n",
       "</table>\n",
       "</div>"
      ],
      "text/plain": [
       "Empty DataFrame\n",
       "Columns: [Headlines, Description, Content, Url, Category]\n",
       "Index: []"
      ]
     },
     "metadata": {},
     "output_type": "display_data"
    }
   ],
   "source": [
    "def check_url_category(df):\n",
    "    \"\"\"\n",
    "    Checks if there is a category in the URL of each article.\n",
    "\n",
    "    Parameters:\n",
    "    df (DataFrame): One Pandas dataframe.\n",
    "\n",
    "    Returns:\n",
    "    count - Number of categories found in the urls\n",
    "    rows_with_cat - Number of rows with at least one category in url\n",
    "    rows_without_cat - Number of rows without a category in their url\n",
    "    \"\"\"\n",
    "    # Listing the categories\n",
    "    categories = ['business', 'education', 'entertainment', 'technology', 'sports']\n",
    "\n",
    "    # Making all letters in the URL column to lowercase and setting our count to zero\n",
    "    df['Url'].str.lower()\n",
    "    count = 0\n",
    "\n",
    "    # Finding the rows\n",
    "    for category in categories:\n",
    "        \n",
    "        pattern1 = rf\"\\b{category}\\b\"\n",
    "        count += df['Url'].str.contains(pattern1, regex=True, na=False).sum()\n",
    "\n",
    "    pattern2 = '|'.join([rf\"\\b{cat}\\b\" for cat in categories])\n",
    "    rows_with_cat = (df['Url'].str.contains(pattern2, regex=True, na=False)).sum()\n",
    "    rows_without_cat = df[~df['Url'].str.contains(pattern2, regex=True, na=False)]\n",
    "\n",
    "    # Returning our findings\n",
    "    return count, rows_with_cat, rows_without_cat\n",
    "\n",
    "# Displaying findings for the train dataset\n",
    "print('Train_df\\n', '_' * 150)\n",
    "train_category_count, train_rows_with_cat, train_df_url_without_cat = check_url_category(train_df)\n",
    "print(f'Number of categories found in the urls: {train_category_count}')\n",
    "print(f'Number of rows with at least one category in url: {train_rows_with_cat}')\n",
    "print(f'The length of the dataset: {len(train_df)}')\n",
    "print(f'Number of rows with more than one category in url: {train_category_count - train_rows_with_cat}')\n",
    "print(f'Number of rows without a category in their url: {len(train_df) - train_rows_with_cat}')\n",
    "print('\\n', 'Rows without categories\\n')\n",
    "display(train_df_url_without_cat)\n",
    "print('\\n', '_' * 150, '\\n', '_' * 150)\n",
    "\n",
    "# Displaying findings for the test dataset\n",
    "print('\\nTest_df\\n', '_' * 150)\n",
    "test_category_count, test_rows_with_cat, test_df_url_without_cat = check_url_category(test_df)\n",
    "print(f'Number of categories found in the urls: {test_category_count}')\n",
    "print(f'Number of rows with at least one category in url: {test_rows_with_cat}')\n",
    "print(f'The length of the dataset: {len(test_df)}')\n",
    "print(f'Number of rows with more than one category in url: {test_category_count - test_rows_with_cat}')\n",
    "print(f'Number of rows without a category in their url: {len(test_df) - test_rows_with_cat}')\n",
    "print('\\n', 'Rows without categories\\n')\n",
    "display(test_df_url_without_cat)"
   ]
  },
  {
   "cell_type": "markdown",
   "metadata": {},
   "source": [
    "The train dataset has 5482 rows which contain at least one category label in the URL. Since there are a total of 5484 rows in the dataset, only two rows do not have a recognized category. There is a total of 43 rows that have more than one category in their URL, meaning these rows can be classified in more than one category.\n",
    "\n",
    "All the rows (2000 rows) of the test dataset have at least one category label in their URL with 11 of these rows having more than one category label. There are no rows that have unrecognized category label."
   ]
  },
  {
   "cell_type": "markdown",
   "metadata": {},
   "source": [
    "#### __Observations__\n",
    "\n",
    "- The training dataset has an imbalance in the data by category. The category with the most data has more than double the data entries as the category with the least amount of data\n",
    "- The testing dataset has no imbalance in the categorical data with each category accounting for 20% of the total data\n",
    "- The training dataset has 5482 rows of data which contain at least one category label in the URL. Only two rows do not have a recognized category label in the URL. 43 of these rows have more than one recognized category label in the URL.\n",
    "- The testing data has at least one category in each URL of all the data entries. There are 11 rows which contain more than one recognized category label in the URL."
   ]
  },
  {
   "cell_type": "markdown",
   "metadata": {},
   "source": [
    "### **6.Data Preprocessing**"
   ]
  },
  {
   "cell_type": "markdown",
   "metadata": {},
   "source": [
    "#### ***6.1.Text Cleaning***"
   ]
  },
  {
   "cell_type": "markdown",
   "metadata": {},
   "source": [
    "Text cleaning is an essential step in preparing textual data for analysis, ensuring consistency, readability, and relevance. It involves refining and standardizing the data by addressing __inconsistencies__ and removing __irrelevant__ or __redundant__ elements. This process enhances the text’s usability for various analytical and modeling tasks."
   ]
  },
  {
   "cell_type": "markdown",
   "metadata": {},
   "source": [
    "\n",
    "\n",
    "\n",
    "We first begin by handling links, where information embedded within the links is extracted to retain context or relevance. This step ensures that valuable data contained within URLs is not lost but instead transformed into a usable format, laying a solid foundation for further preprocessing tasks."
   ]
  },
  {
   "cell_type": "code",
   "execution_count": 63,
   "metadata": {},
   "outputs": [],
   "source": [
    "def extract_url_category(data, url_column):\n",
    "    \"\"\"\n",
    "    Extracts a category from a URL column based on a list of predefined categories.\n",
    "    If no category is found, assigns the mode (most common value) from 'Url_Category'.\n",
    "\n",
    "    Args:\n",
    "        data (pd.DataFrame): The input DataFrame.\n",
    "        url_column (str): The column name containing URLs.\n",
    "\n",
    "    Returns:\n",
    "        pd.DataFrame: The updated DataFrame with a new 'Url_Category' column.\n",
    "    \"\"\"\n",
    "\n",
    "    # List of predefined categories\n",
    "    categories = ['business', 'education', 'entertainment', 'technology', 'sports']\n",
    "\n",
    "    # Regex to match predefined categories\n",
    "    category_pattern = r'(' + '|'.join(categories) + r')'\n",
    "\n",
    "    # Extract categories based on the predefined list\n",
    "    data['Url_Category'] = data[url_column].str.extract(category_pattern, expand=False)\n",
    "\n",
    "    # Fill any NaN values in 'Url_Category' with the mode (most common value)\n",
    "    mode_category = data['Url_Category'].mode()[0] if not data['Url_Category'].isnull().all() else 'url-web'\n",
    "\n",
    "    data['Url_Category'] = data['Url_Category'].fillna(mode_category)\n",
    "\n",
    "    # Drop the original URL column\n",
    "    data = data.drop(columns=[url_column])\n",
    "\n",
    "    # Rearrange columns for consistency\n",
    "    data = data[['Headlines', 'Description', 'Content', 'Url_Category', 'Category']]\n",
    "\n",
    "    return data\n"
   ]
  },
  {
   "cell_type": "code",
   "execution_count": 64,
   "metadata": {},
   "outputs": [],
   "source": [
    "# Extract category information from the 'Url' column in the training dataset\n",
    "train_df = extract_url_category(train_df, 'Url')\n",
    "\n",
    "# Extract category information from the 'Url' column in the testing dataset\n",
    "test_df = extract_url_category(test_df, 'Url')"
   ]
  },
  {
   "cell_type": "code",
   "execution_count": 65,
   "metadata": {},
   "outputs": [
    {
     "data": {
      "text/html": [
       "<div>\n",
       "<style scoped>\n",
       "    .dataframe tbody tr th:only-of-type {\n",
       "        vertical-align: middle;\n",
       "    }\n",
       "\n",
       "    .dataframe tbody tr th {\n",
       "        vertical-align: top;\n",
       "    }\n",
       "\n",
       "    .dataframe thead th {\n",
       "        text-align: right;\n",
       "    }\n",
       "</style>\n",
       "<table border=\"1\" class=\"dataframe\">\n",
       "  <thead>\n",
       "    <tr style=\"text-align: right;\">\n",
       "      <th></th>\n",
       "      <th>Headlines</th>\n",
       "      <th>Description</th>\n",
       "      <th>Content</th>\n",
       "      <th>Url_Category</th>\n",
       "      <th>Category</th>\n",
       "    </tr>\n",
       "  </thead>\n",
       "  <tbody>\n",
       "    <tr>\n",
       "      <th>0</th>\n",
       "      <td>RBI revises definition of politically-exposed ...</td>\n",
       "      <td>The central bank has also asked chairpersons a...</td>\n",
       "      <td>The Reserve Bank of India (RBI) has changed th...</td>\n",
       "      <td>business</td>\n",
       "      <td>business</td>\n",
       "    </tr>\n",
       "    <tr>\n",
       "      <th>1</th>\n",
       "      <td>NDTV Q2 net profit falls 57.4% to Rs 5.55 cror...</td>\n",
       "      <td>NDTV's consolidated revenue from operations wa...</td>\n",
       "      <td>Broadcaster New Delhi Television Ltd on Monday...</td>\n",
       "      <td>business</td>\n",
       "      <td>business</td>\n",
       "    </tr>\n",
       "    <tr>\n",
       "      <th>2</th>\n",
       "      <td>Akasa Air ‘well capitalised’, can grow much fa...</td>\n",
       "      <td>The initial share sale will be open for public...</td>\n",
       "      <td>Homegrown server maker Netweb Technologies Ind...</td>\n",
       "      <td>business</td>\n",
       "      <td>business</td>\n",
       "    </tr>\n",
       "    <tr>\n",
       "      <th>3</th>\n",
       "      <td>India’s current account deficit declines sharp...</td>\n",
       "      <td>The current account deficit (CAD) was 3.8 per ...</td>\n",
       "      <td>India’s current account deficit declined sharp...</td>\n",
       "      <td>business</td>\n",
       "      <td>business</td>\n",
       "    </tr>\n",
       "    <tr>\n",
       "      <th>4</th>\n",
       "      <td>States borrowing cost soars to 7.68%, highest ...</td>\n",
       "      <td>The prices shot up reflecting the overall high...</td>\n",
       "      <td>States have been forced to pay through their n...</td>\n",
       "      <td>business</td>\n",
       "      <td>business</td>\n",
       "    </tr>\n",
       "  </tbody>\n",
       "</table>\n",
       "</div>"
      ],
      "text/plain": [
       "                                           Headlines  \\\n",
       "0  RBI revises definition of politically-exposed ...   \n",
       "1  NDTV Q2 net profit falls 57.4% to Rs 5.55 cror...   \n",
       "2  Akasa Air ‘well capitalised’, can grow much fa...   \n",
       "3  India’s current account deficit declines sharp...   \n",
       "4  States borrowing cost soars to 7.68%, highest ...   \n",
       "\n",
       "                                         Description  \\\n",
       "0  The central bank has also asked chairpersons a...   \n",
       "1  NDTV's consolidated revenue from operations wa...   \n",
       "2  The initial share sale will be open for public...   \n",
       "3  The current account deficit (CAD) was 3.8 per ...   \n",
       "4  The prices shot up reflecting the overall high...   \n",
       "\n",
       "                                             Content Url_Category  Category  \n",
       "0  The Reserve Bank of India (RBI) has changed th...     business  business  \n",
       "1  Broadcaster New Delhi Television Ltd on Monday...     business  business  \n",
       "2  Homegrown server maker Netweb Technologies Ind...     business  business  \n",
       "3  India’s current account deficit declined sharp...     business  business  \n",
       "4  States have been forced to pay through their n...     business  business  "
      ]
     },
     "execution_count": 65,
     "metadata": {},
     "output_type": "execute_result"
    }
   ],
   "source": [
    "# Overview of dataframe\n",
    "train_df.head()"
   ]
  },
  {
   "cell_type": "markdown",
   "metadata": {},
   "source": [
    "We then clean text by removing special characters, numbers, and punctuation to eliminate noise and ensure the data is simplified and consistent. This process focuses on retaining only meaningful textual information, making the content more suitable for analysis or machine learning tasks."
   ]
  },
  {
   "cell_type": "code",
   "execution_count": 67,
   "metadata": {},
   "outputs": [],
   "source": [
    "# Function to clean text (remove special characters, numbers, punctuation)\n",
    "def clean_text(text):\n",
    "    \"\"\"\n",
    "    Clean a given text by performing the following operations:\n",
    "    - Convert the text to lowercase.\n",
    "    - Remove all non-alphabetic characters (including digits, punctuation, and special characters).\n",
    "    - Remove extra spaces.\n",
    "    - Strip leading and trailing spaces.\n",
    "\n",
    "    Parameters:\n",
    "    text (str): The raw text that needs to be cleaned.\n",
    "\n",
    "    Returns:\n",
    "    str: The cleaned text.\n",
    "    \"\"\"\n",
    "    # Convert text to lowercase\n",
    "    text = text.lower()\n",
    "\n",
    "    # Remove alphanumeric characters, special characters, and punctuation\n",
    "    text = re.sub(r'[^a-z\\s]', '', text)\n",
    "    \n",
    "    # Remove extra spaces\n",
    "    text = re.sub(r'\\s+', ' ', text)\n",
    "    \n",
    "    # Strip leading/trailing spaces\n",
    "    text = text.strip()\n",
    "    \n",
    "    return text\n"
   ]
  },
  {
   "cell_type": "code",
   "execution_count": 68,
   "metadata": {},
   "outputs": [],
   "source": [
    "# Apply 'clean_text' on  each column in the train_df\n",
    "train_df[\"Headlines_Clean_Text\"] = train_df[\"Headlines\"].apply(clean_text)  \n",
    "train_df[\"Description_Clean_Text\"] = train_df[\"Description\"].apply(clean_text)  \n",
    "train_df[\"Content_Clean_Text\"] = train_df[\"Content\"].apply(clean_text)  \n",
    "train_df[\"Url_Category_Clean_Text\"] = train_df[\"Url_Category\"].apply(clean_text) \n",
    "\n",
    "# Apply 'clean_text' on  each column in the test_df\n",
    "test_df[\"Headlines_Clean_Text\"] = test_df[\"Headlines\"].apply(clean_text)  \n",
    "test_df[\"Description_Clean_Text\"] = test_df[\"Description\"].apply(clean_text)  \n",
    "test_df[\"Content_Clean_Text\"] = test_df[\"Content\"].apply(clean_text)  \n",
    "test_df[\"Url_Category_Clean_Text\"] = test_df[\"Url_Category\"].apply(clean_text)  "
   ]
  },
  {
   "cell_type": "code",
   "execution_count": 69,
   "metadata": {},
   "outputs": [
    {
     "name": "stdout",
     "output_type": "stream",
     "text": [
      "Train_df shape: (5484, 9)\n",
      "Test_df shape: (2000, 9)\n"
     ]
    }
   ],
   "source": [
    "# Print the shape of the training dataset\n",
    "print('Train_df shape:', train_df.shape)\n",
    "# Print the shape of the testing dataset\n",
    "print('Test_df shape:', test_df.shape)"
   ]
  },
  {
   "cell_type": "markdown",
   "metadata": {},
   "source": [
    "    Our dataframe shapes have changed, with an increase in the number of columns, instead of cleaning the text in the original column, we created a new column to store the cleaned text. This approach allows us to track the progress of our preprocessing steps while preserving the raw data for reference or debugging purposes"
   ]
  },
  {
   "cell_type": "code",
   "execution_count": 71,
   "metadata": {},
   "outputs": [
    {
     "data": {
      "text/html": [
       "<div>\n",
       "<style scoped>\n",
       "    .dataframe tbody tr th:only-of-type {\n",
       "        vertical-align: middle;\n",
       "    }\n",
       "\n",
       "    .dataframe tbody tr th {\n",
       "        vertical-align: top;\n",
       "    }\n",
       "\n",
       "    .dataframe thead th {\n",
       "        text-align: right;\n",
       "    }\n",
       "</style>\n",
       "<table border=\"1\" class=\"dataframe\">\n",
       "  <thead>\n",
       "    <tr style=\"text-align: right;\">\n",
       "      <th></th>\n",
       "      <th>Headlines</th>\n",
       "      <th>Description</th>\n",
       "      <th>Content</th>\n",
       "      <th>Url_Category</th>\n",
       "      <th>Category</th>\n",
       "      <th>Headlines_Clean_Text</th>\n",
       "      <th>Description_Clean_Text</th>\n",
       "      <th>Content_Clean_Text</th>\n",
       "      <th>Url_Category_Clean_Text</th>\n",
       "    </tr>\n",
       "  </thead>\n",
       "  <tbody>\n",
       "    <tr>\n",
       "      <th>0</th>\n",
       "      <td>RBI revises definition of politically-exposed ...</td>\n",
       "      <td>The central bank has also asked chairpersons a...</td>\n",
       "      <td>The Reserve Bank of India (RBI) has changed th...</td>\n",
       "      <td>business</td>\n",
       "      <td>business</td>\n",
       "      <td>rbi revises definition of politicallyexposed p...</td>\n",
       "      <td>the central bank has also asked chairpersons a...</td>\n",
       "      <td>the reserve bank of india rbi has changed the ...</td>\n",
       "      <td>business</td>\n",
       "    </tr>\n",
       "    <tr>\n",
       "      <th>1</th>\n",
       "      <td>NDTV Q2 net profit falls 57.4% to Rs 5.55 cror...</td>\n",
       "      <td>NDTV's consolidated revenue from operations wa...</td>\n",
       "      <td>Broadcaster New Delhi Television Ltd on Monday...</td>\n",
       "      <td>business</td>\n",
       "      <td>business</td>\n",
       "      <td>ndtv q net profit falls to rs crore impacted b...</td>\n",
       "      <td>ndtvs consolidated revenue from operations was...</td>\n",
       "      <td>broadcaster new delhi television ltd on monday...</td>\n",
       "      <td>business</td>\n",
       "    </tr>\n",
       "    <tr>\n",
       "      <th>2</th>\n",
       "      <td>Akasa Air ‘well capitalised’, can grow much fa...</td>\n",
       "      <td>The initial share sale will be open for public...</td>\n",
       "      <td>Homegrown server maker Netweb Technologies Ind...</td>\n",
       "      <td>business</td>\n",
       "      <td>business</td>\n",
       "      <td>akasa air well capitalised can grow much faste...</td>\n",
       "      <td>the initial share sale will be open for public...</td>\n",
       "      <td>homegrown server maker netweb technologies ind...</td>\n",
       "      <td>business</td>\n",
       "    </tr>\n",
       "    <tr>\n",
       "      <th>3</th>\n",
       "      <td>India’s current account deficit declines sharp...</td>\n",
       "      <td>The current account deficit (CAD) was 3.8 per ...</td>\n",
       "      <td>India’s current account deficit declined sharp...</td>\n",
       "      <td>business</td>\n",
       "      <td>business</td>\n",
       "      <td>indias current account deficit declines sharpl...</td>\n",
       "      <td>the current account deficit cad was per cent o...</td>\n",
       "      <td>indias current account deficit declined sharpl...</td>\n",
       "      <td>business</td>\n",
       "    </tr>\n",
       "    <tr>\n",
       "      <th>4</th>\n",
       "      <td>States borrowing cost soars to 7.68%, highest ...</td>\n",
       "      <td>The prices shot up reflecting the overall high...</td>\n",
       "      <td>States have been forced to pay through their n...</td>\n",
       "      <td>business</td>\n",
       "      <td>business</td>\n",
       "      <td>states borrowing cost soars to highest so far ...</td>\n",
       "      <td>the prices shot up reflecting the overall high...</td>\n",
       "      <td>states have been forced to pay through their n...</td>\n",
       "      <td>business</td>\n",
       "    </tr>\n",
       "  </tbody>\n",
       "</table>\n",
       "</div>"
      ],
      "text/plain": [
       "                                           Headlines  \\\n",
       "0  RBI revises definition of politically-exposed ...   \n",
       "1  NDTV Q2 net profit falls 57.4% to Rs 5.55 cror...   \n",
       "2  Akasa Air ‘well capitalised’, can grow much fa...   \n",
       "3  India’s current account deficit declines sharp...   \n",
       "4  States borrowing cost soars to 7.68%, highest ...   \n",
       "\n",
       "                                         Description  \\\n",
       "0  The central bank has also asked chairpersons a...   \n",
       "1  NDTV's consolidated revenue from operations wa...   \n",
       "2  The initial share sale will be open for public...   \n",
       "3  The current account deficit (CAD) was 3.8 per ...   \n",
       "4  The prices shot up reflecting the overall high...   \n",
       "\n",
       "                                             Content Url_Category  Category  \\\n",
       "0  The Reserve Bank of India (RBI) has changed th...     business  business   \n",
       "1  Broadcaster New Delhi Television Ltd on Monday...     business  business   \n",
       "2  Homegrown server maker Netweb Technologies Ind...     business  business   \n",
       "3  India’s current account deficit declined sharp...     business  business   \n",
       "4  States have been forced to pay through their n...     business  business   \n",
       "\n",
       "                                Headlines_Clean_Text  \\\n",
       "0  rbi revises definition of politicallyexposed p...   \n",
       "1  ndtv q net profit falls to rs crore impacted b...   \n",
       "2  akasa air well capitalised can grow much faste...   \n",
       "3  indias current account deficit declines sharpl...   \n",
       "4  states borrowing cost soars to highest so far ...   \n",
       "\n",
       "                              Description_Clean_Text  \\\n",
       "0  the central bank has also asked chairpersons a...   \n",
       "1  ndtvs consolidated revenue from operations was...   \n",
       "2  the initial share sale will be open for public...   \n",
       "3  the current account deficit cad was per cent o...   \n",
       "4  the prices shot up reflecting the overall high...   \n",
       "\n",
       "                                  Content_Clean_Text Url_Category_Clean_Text  \n",
       "0  the reserve bank of india rbi has changed the ...                business  \n",
       "1  broadcaster new delhi television ltd on monday...                business  \n",
       "2  homegrown server maker netweb technologies ind...                business  \n",
       "3  indias current account deficit declined sharpl...                business  \n",
       "4  states have been forced to pay through their n...                business  "
      ]
     },
     "execution_count": 71,
     "metadata": {},
     "output_type": "execute_result"
    }
   ],
   "source": [
    "# Overview of dataframe\n",
    "train_df.head()"
   ]
  },
  {
   "cell_type": "markdown",
   "metadata": {},
   "source": [
    "\n",
    "### We now streamline the preprocessing of our textual data by creating dedicated functions for key tasks:\n",
    "\n",
    "\n",
    "1.**Tokenize Function:** Breaks text into individual words or tokens, making it easier to process.\n",
    "\n",
    "2.**Remove Stopwords Function:** Filters out commonly used words (e.g., \"and,\" \"the\") that do not contribute significant meaning.\n",
    "\n",
    "3.**Lemmatize Function:** Reduces words to their base or root form to ensure consistency.\n",
    "\n",
    "4.**Preprocess Function:** Combines the above functions into a single workflow, allowing all steps to be executed in sequence for efficient text preprocessing."
   ]
  },
  {
   "cell_type": "code",
   "execution_count": 73,
   "metadata": {},
   "outputs": [],
   "source": [
    "# Function for tokenization\n",
    "def tokenize_text(text):\n",
    "    \"\"\"\n",
    "    Tokenizes a given text into words (tokens).\n",
    "    \n",
    "    This function uses the `word_tokenize` method from the NLTK library\n",
    "    to split the input text into individual words, removing punctuation \n",
    "    and separating the text into meaningful chunks for further processing.\n",
    "\n",
    "    Parameters:\n",
    "    text (str): The text to be tokenized.\n",
    "    \n",
    "    Returns:\n",
    "    list: A list of tokens (words) extracted from the input text.\n",
    "    \"\"\"\n",
    "    # Tokenize the input text into words\n",
    "    tokens = word_tokenize(text)\n",
    "    \n",
    "    # Return the list of tokens\n",
    "    return tokens\n"
   ]
  },
  {
   "cell_type": "code",
   "execution_count": 74,
   "metadata": {},
   "outputs": [],
   "source": [
    "# Function to remove stopwords\n",
    "def remove_stopwords(tokens):\n",
    "    \"\"\"\n",
    "    Removes stopwords from a list of tokens.\n",
    "    \n",
    "    Stopwords are common words that do not carry significant meaning \n",
    "    for text analysis (e.g., \"the\", \"and\", \"is\"). This function filters \n",
    "    out those words from the input token list.\n",
    "\n",
    "    Parameters:\n",
    "    tokens (list): A list of tokens (words) from which stopwords will be removed.\n",
    "    \n",
    "    Returns:\n",
    "    list: A list of tokens with stopwords removed.\n",
    "    \"\"\"\n",
    "\n",
    "    # Load the set of stopwords for the English language\n",
    "    stop_words = set(stopwords.words('english'))\n",
    "\n",
    "    # Filter out stopwords from the list of tokens\n",
    "    filtered_tokens = [word for word in tokens if word not in stop_words]\n",
    "    \n",
    "    # Return the filtered list of tokens\n",
    "    return filtered_tokens"
   ]
  },
  {
   "cell_type": "code",
   "execution_count": 75,
   "metadata": {},
   "outputs": [],
   "source": [
    "\n",
    "\n",
    "def lemmatize_tokens(tokens):\n",
    "    \"\"\"\n",
    "    Lemmatizes a list of tokens (words) to their base form.\n",
    "\n",
    "    Parameters:\n",
    "    tokens (list): A list of words (strings) to be lemmatized.\n",
    "\n",
    "    Returns:\n",
    "    list: A list of lemmatized words.\n",
    "    \n",
    "    Example:\n",
    "    >>> lemmatize_tokens([\"running\", \"better\", \"cats\"])\n",
    "    ['run', 'better', 'cat']\n",
    "    \"\"\"\n",
    "    # Initialize the lemmatizer\n",
    "    lemmatizer = WordNetLemmatizer()\n",
    "\n",
    "    # Lemmatize each word in the tokens list and return the results in a new list\n",
    "    return [lemmatizer.lemmatize(word) for word in tokens]"
   ]
  },
  {
   "cell_type": "code",
   "execution_count": 76,
   "metadata": {},
   "outputs": [],
   "source": [
    "# Function to preprocess text (clean, tokenize, remove stopwords, and lemmatize)\n",
    "def preprocess_text(text):\n",
    "    \"\"\"\n",
    "    Preprocesses the input text by performing tokenization, stopword removal,\n",
    "    and lemmatization in sequence.\n",
    "\n",
    "    The steps include:\n",
    "    1. Tokenizing the text into individual words.\n",
    "    2. Removing stopwords (common words with little meaning for analysis).\n",
    "    3. Lemmatizing the remaining tokens to their base forms.\n",
    "\n",
    "    Parameters:\n",
    "    text (str): The raw text that needs to be processed.\n",
    "\n",
    "    Returns:\n",
    "    list: A list of preprocessed tokens (words).\n",
    "    \"\"\"\n",
    "    # Tokenize the text into words\n",
    "    tokens = tokenize_text(text)\n",
    "    \n",
    "    # Remove stopwords from the list of tokens\n",
    "    tokens = remove_stopwords(tokens)\n",
    "    \n",
    "    # Lemmatize the remaining tokens\n",
    "    tokens = lemmatize_tokens(tokens)\n",
    "    \n",
    "    # Return the preprocessed list of tokens\n",
    "    return tokens"
   ]
  },
  {
   "cell_type": "code",
   "execution_count": 77,
   "metadata": {},
   "outputs": [],
   "source": [
    "# Apply text preprocessing to each column separately\n",
    "train_df[\"Headlines_Tokens\"] = train_df[\"Headlines_Clean_Text\"].apply(preprocess_text)  \n",
    "train_df[\"Description_Tokens\"] = train_df[\"Description_Clean_Text\"].apply(preprocess_text)  \n",
    "train_df[\"Content_Tokens\"] = train_df[\"Content_Clean_Text\"].apply(preprocess_text)  \n",
    "train_df[\"Url_Category_Tokens\"] = train_df[\"Url_Category_Clean_Text\"].apply(preprocess_text)  \n",
    "\n",
    "# Apply text preprocessing to each column separately\n",
    "test_df[\"Headlines_Tokens\"] = test_df[\"Headlines_Clean_Text\"].apply(preprocess_text)  \n",
    "test_df[\"Description_Tokens\"] = test_df[\"Description_Clean_Text\"].apply(preprocess_text)  \n",
    "test_df[\"Content_Tokens\"] = test_df[\"Content_Clean_Text\"].apply(preprocess_text)  \n",
    "test_df[\"Url_Category_Tokens\"] = test_df[\"Url_Category_Clean_Text\"].apply(preprocess_text)  "
   ]
  },
  {
   "cell_type": "code",
   "execution_count": 78,
   "metadata": {},
   "outputs": [
    {
     "name": "stdout",
     "output_type": "stream",
     "text": [
      "Train_df shape: (5484, 13)\n",
      "Test_df shape: (2000, 13)\n"
     ]
    }
   ],
   "source": [
    "# Print the shape of the training dataset\n",
    "print('Train_df shape:', train_df.shape)\n",
    "# Print the shape of the testing dataset\n",
    "print('Test_df shape:', test_df.shape)"
   ]
  },
  {
   "cell_type": "markdown",
   "metadata": {},
   "source": [
    "    The number of columns increases further after preprocessing because new feature columns are created based on the original columns. Each original column undergoes transformations, such as tokenization, resulting in additional columns in the dataset"
   ]
  },
  {
   "cell_type": "code",
   "execution_count": 80,
   "metadata": {},
   "outputs": [
    {
     "data": {
      "text/html": [
       "<div>\n",
       "<style scoped>\n",
       "    .dataframe tbody tr th:only-of-type {\n",
       "        vertical-align: middle;\n",
       "    }\n",
       "\n",
       "    .dataframe tbody tr th {\n",
       "        vertical-align: top;\n",
       "    }\n",
       "\n",
       "    .dataframe thead th {\n",
       "        text-align: right;\n",
       "    }\n",
       "</style>\n",
       "<table border=\"1\" class=\"dataframe\">\n",
       "  <thead>\n",
       "    <tr style=\"text-align: right;\">\n",
       "      <th></th>\n",
       "      <th>Headlines</th>\n",
       "      <th>Description</th>\n",
       "      <th>Content</th>\n",
       "      <th>Url_Category</th>\n",
       "      <th>Category</th>\n",
       "      <th>Headlines_Clean_Text</th>\n",
       "      <th>Description_Clean_Text</th>\n",
       "      <th>Content_Clean_Text</th>\n",
       "      <th>Url_Category_Clean_Text</th>\n",
       "      <th>Headlines_Tokens</th>\n",
       "      <th>Description_Tokens</th>\n",
       "      <th>Content_Tokens</th>\n",
       "      <th>Url_Category_Tokens</th>\n",
       "    </tr>\n",
       "  </thead>\n",
       "  <tbody>\n",
       "    <tr>\n",
       "      <th>0</th>\n",
       "      <td>RBI revises definition of politically-exposed ...</td>\n",
       "      <td>The central bank has also asked chairpersons a...</td>\n",
       "      <td>The Reserve Bank of India (RBI) has changed th...</td>\n",
       "      <td>business</td>\n",
       "      <td>business</td>\n",
       "      <td>rbi revises definition of politicallyexposed p...</td>\n",
       "      <td>the central bank has also asked chairpersons a...</td>\n",
       "      <td>the reserve bank of india rbi has changed the ...</td>\n",
       "      <td>business</td>\n",
       "      <td>[rbi, revise, definition, politicallyexposed, ...</td>\n",
       "      <td>[central, bank, also, asked, chairperson, chie...</td>\n",
       "      <td>[reserve, bank, india, rbi, changed, definitio...</td>\n",
       "      <td>[business]</td>\n",
       "    </tr>\n",
       "    <tr>\n",
       "      <th>1</th>\n",
       "      <td>NDTV Q2 net profit falls 57.4% to Rs 5.55 cror...</td>\n",
       "      <td>NDTV's consolidated revenue from operations wa...</td>\n",
       "      <td>Broadcaster New Delhi Television Ltd on Monday...</td>\n",
       "      <td>business</td>\n",
       "      <td>business</td>\n",
       "      <td>ndtv q net profit falls to rs crore impacted b...</td>\n",
       "      <td>ndtvs consolidated revenue from operations was...</td>\n",
       "      <td>broadcaster new delhi television ltd on monday...</td>\n",
       "      <td>business</td>\n",
       "      <td>[ndtv, q, net, profit, fall, r, crore, impacte...</td>\n",
       "      <td>[ndtvs, consolidated, revenue, operation, r, c...</td>\n",
       "      <td>[broadcaster, new, delhi, television, ltd, mon...</td>\n",
       "      <td>[business]</td>\n",
       "    </tr>\n",
       "    <tr>\n",
       "      <th>2</th>\n",
       "      <td>Akasa Air ‘well capitalised’, can grow much fa...</td>\n",
       "      <td>The initial share sale will be open for public...</td>\n",
       "      <td>Homegrown server maker Netweb Technologies Ind...</td>\n",
       "      <td>business</td>\n",
       "      <td>business</td>\n",
       "      <td>akasa air well capitalised can grow much faste...</td>\n",
       "      <td>the initial share sale will be open for public...</td>\n",
       "      <td>homegrown server maker netweb technologies ind...</td>\n",
       "      <td>business</td>\n",
       "      <td>[akasa, air, well, capitalised, grow, much, fa...</td>\n",
       "      <td>[initial, share, sale, open, public, subscript...</td>\n",
       "      <td>[homegrown, server, maker, netweb, technology,...</td>\n",
       "      <td>[business]</td>\n",
       "    </tr>\n",
       "    <tr>\n",
       "      <th>3</th>\n",
       "      <td>India’s current account deficit declines sharp...</td>\n",
       "      <td>The current account deficit (CAD) was 3.8 per ...</td>\n",
       "      <td>India’s current account deficit declined sharp...</td>\n",
       "      <td>business</td>\n",
       "      <td>business</td>\n",
       "      <td>indias current account deficit declines sharpl...</td>\n",
       "      <td>the current account deficit cad was per cent o...</td>\n",
       "      <td>indias current account deficit declined sharpl...</td>\n",
       "      <td>business</td>\n",
       "      <td>[india, current, account, deficit, decline, sh...</td>\n",
       "      <td>[current, account, deficit, cad, per, cent, gd...</td>\n",
       "      <td>[india, current, account, deficit, declined, s...</td>\n",
       "      <td>[business]</td>\n",
       "    </tr>\n",
       "    <tr>\n",
       "      <th>4</th>\n",
       "      <td>States borrowing cost soars to 7.68%, highest ...</td>\n",
       "      <td>The prices shot up reflecting the overall high...</td>\n",
       "      <td>States have been forced to pay through their n...</td>\n",
       "      <td>business</td>\n",
       "      <td>business</td>\n",
       "      <td>states borrowing cost soars to highest so far ...</td>\n",
       "      <td>the prices shot up reflecting the overall high...</td>\n",
       "      <td>states have been forced to pay through their n...</td>\n",
       "      <td>business</td>\n",
       "      <td>[state, borrowing, cost, soar, highest, far, f...</td>\n",
       "      <td>[price, shot, reflecting, overall, higher, ris...</td>\n",
       "      <td>[state, forced, pay, nose, weekly, auction, de...</td>\n",
       "      <td>[business]</td>\n",
       "    </tr>\n",
       "  </tbody>\n",
       "</table>\n",
       "</div>"
      ],
      "text/plain": [
       "                                           Headlines  \\\n",
       "0  RBI revises definition of politically-exposed ...   \n",
       "1  NDTV Q2 net profit falls 57.4% to Rs 5.55 cror...   \n",
       "2  Akasa Air ‘well capitalised’, can grow much fa...   \n",
       "3  India’s current account deficit declines sharp...   \n",
       "4  States borrowing cost soars to 7.68%, highest ...   \n",
       "\n",
       "                                         Description  \\\n",
       "0  The central bank has also asked chairpersons a...   \n",
       "1  NDTV's consolidated revenue from operations wa...   \n",
       "2  The initial share sale will be open for public...   \n",
       "3  The current account deficit (CAD) was 3.8 per ...   \n",
       "4  The prices shot up reflecting the overall high...   \n",
       "\n",
       "                                             Content Url_Category  Category  \\\n",
       "0  The Reserve Bank of India (RBI) has changed th...     business  business   \n",
       "1  Broadcaster New Delhi Television Ltd on Monday...     business  business   \n",
       "2  Homegrown server maker Netweb Technologies Ind...     business  business   \n",
       "3  India’s current account deficit declined sharp...     business  business   \n",
       "4  States have been forced to pay through their n...     business  business   \n",
       "\n",
       "                                Headlines_Clean_Text  \\\n",
       "0  rbi revises definition of politicallyexposed p...   \n",
       "1  ndtv q net profit falls to rs crore impacted b...   \n",
       "2  akasa air well capitalised can grow much faste...   \n",
       "3  indias current account deficit declines sharpl...   \n",
       "4  states borrowing cost soars to highest so far ...   \n",
       "\n",
       "                              Description_Clean_Text  \\\n",
       "0  the central bank has also asked chairpersons a...   \n",
       "1  ndtvs consolidated revenue from operations was...   \n",
       "2  the initial share sale will be open for public...   \n",
       "3  the current account deficit cad was per cent o...   \n",
       "4  the prices shot up reflecting the overall high...   \n",
       "\n",
       "                                  Content_Clean_Text Url_Category_Clean_Text  \\\n",
       "0  the reserve bank of india rbi has changed the ...                business   \n",
       "1  broadcaster new delhi television ltd on monday...                business   \n",
       "2  homegrown server maker netweb technologies ind...                business   \n",
       "3  indias current account deficit declined sharpl...                business   \n",
       "4  states have been forced to pay through their n...                business   \n",
       "\n",
       "                                    Headlines_Tokens  \\\n",
       "0  [rbi, revise, definition, politicallyexposed, ...   \n",
       "1  [ndtv, q, net, profit, fall, r, crore, impacte...   \n",
       "2  [akasa, air, well, capitalised, grow, much, fa...   \n",
       "3  [india, current, account, deficit, decline, sh...   \n",
       "4  [state, borrowing, cost, soar, highest, far, f...   \n",
       "\n",
       "                                  Description_Tokens  \\\n",
       "0  [central, bank, also, asked, chairperson, chie...   \n",
       "1  [ndtvs, consolidated, revenue, operation, r, c...   \n",
       "2  [initial, share, sale, open, public, subscript...   \n",
       "3  [current, account, deficit, cad, per, cent, gd...   \n",
       "4  [price, shot, reflecting, overall, higher, ris...   \n",
       "\n",
       "                                      Content_Tokens Url_Category_Tokens  \n",
       "0  [reserve, bank, india, rbi, changed, definitio...          [business]  \n",
       "1  [broadcaster, new, delhi, television, ltd, mon...          [business]  \n",
       "2  [homegrown, server, maker, netweb, technology,...          [business]  \n",
       "3  [india, current, account, deficit, declined, s...          [business]  \n",
       "4  [state, forced, pay, nose, weekly, auction, de...          [business]  "
      ]
     },
     "execution_count": 80,
     "metadata": {},
     "output_type": "execute_result"
    }
   ],
   "source": [
    "train_df.head()"
   ]
  },
  {
   "cell_type": "markdown",
   "metadata": {},
   "source": [
    "After tokenizing the text, we join the tokens back together into a single string to prepare the data for vectorization. This step ensures that the text is in a suitable format for techniques like TF-IDF or word embeddings, which convert the cleaned text into numerical representations for machine learning models."
   ]
  },
  {
   "cell_type": "code",
   "execution_count": 82,
   "metadata": {},
   "outputs": [],
   "source": [
    "# Join tokens for vectorization\n",
    "train_df[\"Headlines_Tokens\"] = train_df[\"Headlines_Tokens\"].apply(lambda tokens: ' '.join(tokens))\n",
    "train_df[\"Description_Tokens\"] = train_df[\"Description_Tokens\"].apply(lambda tokens: ' '.join(tokens))\n",
    "train_df[\"Content_Tokens\"] = train_df[\"Content_Tokens\"].apply(lambda tokens: ' '.join(tokens))\n",
    "train_df[\"Url_Category_Tokens\"] = train_df[\"Url_Category_Tokens\"].apply(lambda tokens: ' '.join(tokens))\n",
    "\n",
    "test_df[\"Headlines_Tokens\"] = test_df[\"Headlines_Tokens\"].apply(lambda tokens: ' '.join(tokens))\n",
    "test_df[\"Description_Tokens\"] = test_df[\"Description_Tokens\"].apply(lambda tokens: ' '.join(tokens))\n",
    "test_df[\"Content_Tokens\"] = test_df[\"Content_Tokens\"].apply(lambda tokens: ' '.join(tokens))\n",
    "test_df[\"Url_Category_Tokens\"] = test_df[\"Url_Category_Tokens\"].apply(lambda tokens: ' '.join(tokens))"
   ]
  },
  {
   "cell_type": "code",
   "execution_count": 83,
   "metadata": {},
   "outputs": [
    {
     "data": {
      "text/html": [
       "<div>\n",
       "<style scoped>\n",
       "    .dataframe tbody tr th:only-of-type {\n",
       "        vertical-align: middle;\n",
       "    }\n",
       "\n",
       "    .dataframe tbody tr th {\n",
       "        vertical-align: top;\n",
       "    }\n",
       "\n",
       "    .dataframe thead th {\n",
       "        text-align: right;\n",
       "    }\n",
       "</style>\n",
       "<table border=\"1\" class=\"dataframe\">\n",
       "  <thead>\n",
       "    <tr style=\"text-align: right;\">\n",
       "      <th></th>\n",
       "      <th>Headlines</th>\n",
       "      <th>Description</th>\n",
       "      <th>Content</th>\n",
       "      <th>Url_Category</th>\n",
       "      <th>Category</th>\n",
       "      <th>Headlines_Clean_Text</th>\n",
       "      <th>Description_Clean_Text</th>\n",
       "      <th>Content_Clean_Text</th>\n",
       "      <th>Url_Category_Clean_Text</th>\n",
       "      <th>Headlines_Tokens</th>\n",
       "      <th>Description_Tokens</th>\n",
       "      <th>Content_Tokens</th>\n",
       "      <th>Url_Category_Tokens</th>\n",
       "    </tr>\n",
       "  </thead>\n",
       "  <tbody>\n",
       "    <tr>\n",
       "      <th>0</th>\n",
       "      <td>RBI revises definition of politically-exposed ...</td>\n",
       "      <td>The central bank has also asked chairpersons a...</td>\n",
       "      <td>The Reserve Bank of India (RBI) has changed th...</td>\n",
       "      <td>business</td>\n",
       "      <td>business</td>\n",
       "      <td>rbi revises definition of politicallyexposed p...</td>\n",
       "      <td>the central bank has also asked chairpersons a...</td>\n",
       "      <td>the reserve bank of india rbi has changed the ...</td>\n",
       "      <td>business</td>\n",
       "      <td>rbi revise definition politicallyexposed perso...</td>\n",
       "      <td>central bank also asked chairperson chief exec...</td>\n",
       "      <td>reserve bank india rbi changed definition poli...</td>\n",
       "      <td>business</td>\n",
       "    </tr>\n",
       "    <tr>\n",
       "      <th>1</th>\n",
       "      <td>NDTV Q2 net profit falls 57.4% to Rs 5.55 cror...</td>\n",
       "      <td>NDTV's consolidated revenue from operations wa...</td>\n",
       "      <td>Broadcaster New Delhi Television Ltd on Monday...</td>\n",
       "      <td>business</td>\n",
       "      <td>business</td>\n",
       "      <td>ndtv q net profit falls to rs crore impacted b...</td>\n",
       "      <td>ndtvs consolidated revenue from operations was...</td>\n",
       "      <td>broadcaster new delhi television ltd on monday...</td>\n",
       "      <td>business</td>\n",
       "      <td>ndtv q net profit fall r crore impacted lower ...</td>\n",
       "      <td>ndtvs consolidated revenue operation r crore r...</td>\n",
       "      <td>broadcaster new delhi television ltd monday re...</td>\n",
       "      <td>business</td>\n",
       "    </tr>\n",
       "    <tr>\n",
       "      <th>2</th>\n",
       "      <td>Akasa Air ‘well capitalised’, can grow much fa...</td>\n",
       "      <td>The initial share sale will be open for public...</td>\n",
       "      <td>Homegrown server maker Netweb Technologies Ind...</td>\n",
       "      <td>business</td>\n",
       "      <td>business</td>\n",
       "      <td>akasa air well capitalised can grow much faste...</td>\n",
       "      <td>the initial share sale will be open for public...</td>\n",
       "      <td>homegrown server maker netweb technologies ind...</td>\n",
       "      <td>business</td>\n",
       "      <td>akasa air well capitalised grow much faster ce...</td>\n",
       "      <td>initial share sale open public subscription ju...</td>\n",
       "      <td>homegrown server maker netweb technology india...</td>\n",
       "      <td>business</td>\n",
       "    </tr>\n",
       "    <tr>\n",
       "      <th>3</th>\n",
       "      <td>India’s current account deficit declines sharp...</td>\n",
       "      <td>The current account deficit (CAD) was 3.8 per ...</td>\n",
       "      <td>India’s current account deficit declined sharp...</td>\n",
       "      <td>business</td>\n",
       "      <td>business</td>\n",
       "      <td>indias current account deficit declines sharpl...</td>\n",
       "      <td>the current account deficit cad was per cent o...</td>\n",
       "      <td>indias current account deficit declined sharpl...</td>\n",
       "      <td>business</td>\n",
       "      <td>india current account deficit decline sharply ...</td>\n",
       "      <td>current account deficit cad per cent gdp usd b...</td>\n",
       "      <td>india current account deficit declined sharply...</td>\n",
       "      <td>business</td>\n",
       "    </tr>\n",
       "    <tr>\n",
       "      <th>4</th>\n",
       "      <td>States borrowing cost soars to 7.68%, highest ...</td>\n",
       "      <td>The prices shot up reflecting the overall high...</td>\n",
       "      <td>States have been forced to pay through their n...</td>\n",
       "      <td>business</td>\n",
       "      <td>business</td>\n",
       "      <td>states borrowing cost soars to highest so far ...</td>\n",
       "      <td>the prices shot up reflecting the overall high...</td>\n",
       "      <td>states have been forced to pay through their n...</td>\n",
       "      <td>business</td>\n",
       "      <td>state borrowing cost soar highest far fiscal</td>\n",
       "      <td>price shot reflecting overall higher risk aver...</td>\n",
       "      <td>state forced pay nose weekly auction debt tues...</td>\n",
       "      <td>business</td>\n",
       "    </tr>\n",
       "  </tbody>\n",
       "</table>\n",
       "</div>"
      ],
      "text/plain": [
       "                                           Headlines  \\\n",
       "0  RBI revises definition of politically-exposed ...   \n",
       "1  NDTV Q2 net profit falls 57.4% to Rs 5.55 cror...   \n",
       "2  Akasa Air ‘well capitalised’, can grow much fa...   \n",
       "3  India’s current account deficit declines sharp...   \n",
       "4  States borrowing cost soars to 7.68%, highest ...   \n",
       "\n",
       "                                         Description  \\\n",
       "0  The central bank has also asked chairpersons a...   \n",
       "1  NDTV's consolidated revenue from operations wa...   \n",
       "2  The initial share sale will be open for public...   \n",
       "3  The current account deficit (CAD) was 3.8 per ...   \n",
       "4  The prices shot up reflecting the overall high...   \n",
       "\n",
       "                                             Content Url_Category  Category  \\\n",
       "0  The Reserve Bank of India (RBI) has changed th...     business  business   \n",
       "1  Broadcaster New Delhi Television Ltd on Monday...     business  business   \n",
       "2  Homegrown server maker Netweb Technologies Ind...     business  business   \n",
       "3  India’s current account deficit declined sharp...     business  business   \n",
       "4  States have been forced to pay through their n...     business  business   \n",
       "\n",
       "                                Headlines_Clean_Text  \\\n",
       "0  rbi revises definition of politicallyexposed p...   \n",
       "1  ndtv q net profit falls to rs crore impacted b...   \n",
       "2  akasa air well capitalised can grow much faste...   \n",
       "3  indias current account deficit declines sharpl...   \n",
       "4  states borrowing cost soars to highest so far ...   \n",
       "\n",
       "                              Description_Clean_Text  \\\n",
       "0  the central bank has also asked chairpersons a...   \n",
       "1  ndtvs consolidated revenue from operations was...   \n",
       "2  the initial share sale will be open for public...   \n",
       "3  the current account deficit cad was per cent o...   \n",
       "4  the prices shot up reflecting the overall high...   \n",
       "\n",
       "                                  Content_Clean_Text Url_Category_Clean_Text  \\\n",
       "0  the reserve bank of india rbi has changed the ...                business   \n",
       "1  broadcaster new delhi television ltd on monday...                business   \n",
       "2  homegrown server maker netweb technologies ind...                business   \n",
       "3  indias current account deficit declined sharpl...                business   \n",
       "4  states have been forced to pay through their n...                business   \n",
       "\n",
       "                                    Headlines_Tokens  \\\n",
       "0  rbi revise definition politicallyexposed perso...   \n",
       "1  ndtv q net profit fall r crore impacted lower ...   \n",
       "2  akasa air well capitalised grow much faster ce...   \n",
       "3  india current account deficit decline sharply ...   \n",
       "4       state borrowing cost soar highest far fiscal   \n",
       "\n",
       "                                  Description_Tokens  \\\n",
       "0  central bank also asked chairperson chief exec...   \n",
       "1  ndtvs consolidated revenue operation r crore r...   \n",
       "2  initial share sale open public subscription ju...   \n",
       "3  current account deficit cad per cent gdp usd b...   \n",
       "4  price shot reflecting overall higher risk aver...   \n",
       "\n",
       "                                      Content_Tokens Url_Category_Tokens  \n",
       "0  reserve bank india rbi changed definition poli...            business  \n",
       "1  broadcaster new delhi television ltd monday re...            business  \n",
       "2  homegrown server maker netweb technology india...            business  \n",
       "3  india current account deficit declined sharply...            business  \n",
       "4  state forced pay nose weekly auction debt tues...            business  "
      ]
     },
     "execution_count": 83,
     "metadata": {},
     "output_type": "execute_result"
    }
   ],
   "source": [
    "train_df.head()"
   ]
  },
  {
   "cell_type": "markdown",
   "metadata": {},
   "source": [
    "#### ***6.2.Feature Extraction***"
   ]
  },
  {
   "cell_type": "markdown",
   "metadata": {},
   "source": [
    "\n",
    "Feature extraction is the process of turning text into numerical data that machine learning models can understand. It helps capture the important patterns and meanings in the text, allowing the model to analyze the information and make predictions based on it"
   ]
  },
  {
   "cell_type": "markdown",
   "metadata": {},
   "source": [
    "To ensure that machine learning models can effectively interpret and process categorical data, we first encode the target variable into a numerical format. This step is crucial because most machine learning algorithms require numerical inputs for model training. Once the encoding is complete, we also implement a decoding mechanism, which allows us to map the numeric values back to their original categorical labels. This ensures that we can easily interpret the numeric predictions of the model and understand which category each numerical value corresponds to."
   ]
  },
  {
   "cell_type": "code",
   "execution_count": 87,
   "metadata": {},
   "outputs": [],
   "source": [
    "# Function to encode categorical columns and also produce decoded column\n",
    "def encode_and_decode(df_train, df_test, column_name):\n",
    "    # Initialize LabelEncoder\n",
    "    label_encoder = LabelEncoder()\n",
    "    \n",
    "    # Fit and transform on the training data\n",
    "    df_train[column_name + \"_Encoded\"] = label_encoder.fit_transform(df_train[column_name])\n",
    "    \n",
    "    # Transform the test data (use the same encoding as the training data)\n",
    "    df_test[column_name + \"_Encoded\"] = label_encoder.transform(df_test[column_name])\n",
    "\n",
    "    # Store the mapping\n",
    "    label_mapping = dict(zip(label_encoder.classes_, range(len(label_encoder.classes_))))\n",
    "\n",
    "    # Decode function (for reversing encoding)\n",
    "    def decode_labels(encoded_values, mapping):\n",
    "        reverse_mapping = {v: k for k, v in mapping.items()}  # Reverse the mapping\n",
    "        return [reverse_mapping[val] for val in encoded_values]\n",
    "    \n",
    "    # Decode both train and test categories\n",
    "    df_train['Decoded_' + column_name] = decode_labels(df_train[column_name + \"_Encoded\"], label_mapping)\n",
    "    df_test['Decoded_' + column_name] = decode_labels(df_test[column_name + \"_Encoded\"], label_mapping)\n",
    "\n",
    "    return df_train, df_test, label_mapping"
   ]
  },
  {
   "cell_type": "code",
   "execution_count": 88,
   "metadata": {},
   "outputs": [
    {
     "name": "stdout",
     "output_type": "stream",
     "text": [
      "\n",
      "Label Mapping: {'business': 0, 'education': 1, 'entertainment': 2, 'sports': 3, 'technology': 4}\n"
     ]
    }
   ],
   "source": [
    "# define datasets with encoded target columns\n",
    "train_df, test_df, label_mapping = encode_and_decode(train_df, test_df, \"Category\")\n",
    "\n",
    "print(\"\\nLabel Mapping:\", label_mapping)"
   ]
  },
  {
   "cell_type": "code",
   "execution_count": 89,
   "metadata": {},
   "outputs": [
    {
     "data": {
      "text/html": [
       "<div>\n",
       "<style scoped>\n",
       "    .dataframe tbody tr th:only-of-type {\n",
       "        vertical-align: middle;\n",
       "    }\n",
       "\n",
       "    .dataframe tbody tr th {\n",
       "        vertical-align: top;\n",
       "    }\n",
       "\n",
       "    .dataframe thead th {\n",
       "        text-align: right;\n",
       "    }\n",
       "</style>\n",
       "<table border=\"1\" class=\"dataframe\">\n",
       "  <thead>\n",
       "    <tr style=\"text-align: right;\">\n",
       "      <th></th>\n",
       "      <th>Headlines</th>\n",
       "      <th>Description</th>\n",
       "      <th>Content</th>\n",
       "      <th>Url_Category</th>\n",
       "      <th>Category</th>\n",
       "      <th>Headlines_Clean_Text</th>\n",
       "      <th>Description_Clean_Text</th>\n",
       "      <th>Content_Clean_Text</th>\n",
       "      <th>Url_Category_Clean_Text</th>\n",
       "      <th>Headlines_Tokens</th>\n",
       "      <th>Description_Tokens</th>\n",
       "      <th>Content_Tokens</th>\n",
       "      <th>Url_Category_Tokens</th>\n",
       "      <th>Category_Encoded</th>\n",
       "      <th>Decoded_Category</th>\n",
       "    </tr>\n",
       "  </thead>\n",
       "  <tbody>\n",
       "    <tr>\n",
       "      <th>0</th>\n",
       "      <td>RBI revises definition of politically-exposed ...</td>\n",
       "      <td>The central bank has also asked chairpersons a...</td>\n",
       "      <td>The Reserve Bank of India (RBI) has changed th...</td>\n",
       "      <td>business</td>\n",
       "      <td>business</td>\n",
       "      <td>rbi revises definition of politicallyexposed p...</td>\n",
       "      <td>the central bank has also asked chairpersons a...</td>\n",
       "      <td>the reserve bank of india rbi has changed the ...</td>\n",
       "      <td>business</td>\n",
       "      <td>rbi revise definition politicallyexposed perso...</td>\n",
       "      <td>central bank also asked chairperson chief exec...</td>\n",
       "      <td>reserve bank india rbi changed definition poli...</td>\n",
       "      <td>business</td>\n",
       "      <td>0</td>\n",
       "      <td>business</td>\n",
       "    </tr>\n",
       "    <tr>\n",
       "      <th>1</th>\n",
       "      <td>NDTV Q2 net profit falls 57.4% to Rs 5.55 cror...</td>\n",
       "      <td>NDTV's consolidated revenue from operations wa...</td>\n",
       "      <td>Broadcaster New Delhi Television Ltd on Monday...</td>\n",
       "      <td>business</td>\n",
       "      <td>business</td>\n",
       "      <td>ndtv q net profit falls to rs crore impacted b...</td>\n",
       "      <td>ndtvs consolidated revenue from operations was...</td>\n",
       "      <td>broadcaster new delhi television ltd on monday...</td>\n",
       "      <td>business</td>\n",
       "      <td>ndtv q net profit fall r crore impacted lower ...</td>\n",
       "      <td>ndtvs consolidated revenue operation r crore r...</td>\n",
       "      <td>broadcaster new delhi television ltd monday re...</td>\n",
       "      <td>business</td>\n",
       "      <td>0</td>\n",
       "      <td>business</td>\n",
       "    </tr>\n",
       "    <tr>\n",
       "      <th>2</th>\n",
       "      <td>Akasa Air ‘well capitalised’, can grow much fa...</td>\n",
       "      <td>The initial share sale will be open for public...</td>\n",
       "      <td>Homegrown server maker Netweb Technologies Ind...</td>\n",
       "      <td>business</td>\n",
       "      <td>business</td>\n",
       "      <td>akasa air well capitalised can grow much faste...</td>\n",
       "      <td>the initial share sale will be open for public...</td>\n",
       "      <td>homegrown server maker netweb technologies ind...</td>\n",
       "      <td>business</td>\n",
       "      <td>akasa air well capitalised grow much faster ce...</td>\n",
       "      <td>initial share sale open public subscription ju...</td>\n",
       "      <td>homegrown server maker netweb technology india...</td>\n",
       "      <td>business</td>\n",
       "      <td>0</td>\n",
       "      <td>business</td>\n",
       "    </tr>\n",
       "    <tr>\n",
       "      <th>3</th>\n",
       "      <td>India’s current account deficit declines sharp...</td>\n",
       "      <td>The current account deficit (CAD) was 3.8 per ...</td>\n",
       "      <td>India’s current account deficit declined sharp...</td>\n",
       "      <td>business</td>\n",
       "      <td>business</td>\n",
       "      <td>indias current account deficit declines sharpl...</td>\n",
       "      <td>the current account deficit cad was per cent o...</td>\n",
       "      <td>indias current account deficit declined sharpl...</td>\n",
       "      <td>business</td>\n",
       "      <td>india current account deficit decline sharply ...</td>\n",
       "      <td>current account deficit cad per cent gdp usd b...</td>\n",
       "      <td>india current account deficit declined sharply...</td>\n",
       "      <td>business</td>\n",
       "      <td>0</td>\n",
       "      <td>business</td>\n",
       "    </tr>\n",
       "    <tr>\n",
       "      <th>4</th>\n",
       "      <td>States borrowing cost soars to 7.68%, highest ...</td>\n",
       "      <td>The prices shot up reflecting the overall high...</td>\n",
       "      <td>States have been forced to pay through their n...</td>\n",
       "      <td>business</td>\n",
       "      <td>business</td>\n",
       "      <td>states borrowing cost soars to highest so far ...</td>\n",
       "      <td>the prices shot up reflecting the overall high...</td>\n",
       "      <td>states have been forced to pay through their n...</td>\n",
       "      <td>business</td>\n",
       "      <td>state borrowing cost soar highest far fiscal</td>\n",
       "      <td>price shot reflecting overall higher risk aver...</td>\n",
       "      <td>state forced pay nose weekly auction debt tues...</td>\n",
       "      <td>business</td>\n",
       "      <td>0</td>\n",
       "      <td>business</td>\n",
       "    </tr>\n",
       "  </tbody>\n",
       "</table>\n",
       "</div>"
      ],
      "text/plain": [
       "                                           Headlines  \\\n",
       "0  RBI revises definition of politically-exposed ...   \n",
       "1  NDTV Q2 net profit falls 57.4% to Rs 5.55 cror...   \n",
       "2  Akasa Air ‘well capitalised’, can grow much fa...   \n",
       "3  India’s current account deficit declines sharp...   \n",
       "4  States borrowing cost soars to 7.68%, highest ...   \n",
       "\n",
       "                                         Description  \\\n",
       "0  The central bank has also asked chairpersons a...   \n",
       "1  NDTV's consolidated revenue from operations wa...   \n",
       "2  The initial share sale will be open for public...   \n",
       "3  The current account deficit (CAD) was 3.8 per ...   \n",
       "4  The prices shot up reflecting the overall high...   \n",
       "\n",
       "                                             Content Url_Category  Category  \\\n",
       "0  The Reserve Bank of India (RBI) has changed th...     business  business   \n",
       "1  Broadcaster New Delhi Television Ltd on Monday...     business  business   \n",
       "2  Homegrown server maker Netweb Technologies Ind...     business  business   \n",
       "3  India’s current account deficit declined sharp...     business  business   \n",
       "4  States have been forced to pay through their n...     business  business   \n",
       "\n",
       "                                Headlines_Clean_Text  \\\n",
       "0  rbi revises definition of politicallyexposed p...   \n",
       "1  ndtv q net profit falls to rs crore impacted b...   \n",
       "2  akasa air well capitalised can grow much faste...   \n",
       "3  indias current account deficit declines sharpl...   \n",
       "4  states borrowing cost soars to highest so far ...   \n",
       "\n",
       "                              Description_Clean_Text  \\\n",
       "0  the central bank has also asked chairpersons a...   \n",
       "1  ndtvs consolidated revenue from operations was...   \n",
       "2  the initial share sale will be open for public...   \n",
       "3  the current account deficit cad was per cent o...   \n",
       "4  the prices shot up reflecting the overall high...   \n",
       "\n",
       "                                  Content_Clean_Text Url_Category_Clean_Text  \\\n",
       "0  the reserve bank of india rbi has changed the ...                business   \n",
       "1  broadcaster new delhi television ltd on monday...                business   \n",
       "2  homegrown server maker netweb technologies ind...                business   \n",
       "3  indias current account deficit declined sharpl...                business   \n",
       "4  states have been forced to pay through their n...                business   \n",
       "\n",
       "                                    Headlines_Tokens  \\\n",
       "0  rbi revise definition politicallyexposed perso...   \n",
       "1  ndtv q net profit fall r crore impacted lower ...   \n",
       "2  akasa air well capitalised grow much faster ce...   \n",
       "3  india current account deficit decline sharply ...   \n",
       "4       state borrowing cost soar highest far fiscal   \n",
       "\n",
       "                                  Description_Tokens  \\\n",
       "0  central bank also asked chairperson chief exec...   \n",
       "1  ndtvs consolidated revenue operation r crore r...   \n",
       "2  initial share sale open public subscription ju...   \n",
       "3  current account deficit cad per cent gdp usd b...   \n",
       "4  price shot reflecting overall higher risk aver...   \n",
       "\n",
       "                                      Content_Tokens Url_Category_Tokens  \\\n",
       "0  reserve bank india rbi changed definition poli...            business   \n",
       "1  broadcaster new delhi television ltd monday re...            business   \n",
       "2  homegrown server maker netweb technology india...            business   \n",
       "3  india current account deficit declined sharply...            business   \n",
       "4  state forced pay nose weekly auction debt tues...            business   \n",
       "\n",
       "   Category_Encoded Decoded_Category  \n",
       "0                 0         business  \n",
       "1                 0         business  \n",
       "2                 0         business  \n",
       "3                 0         business  \n",
       "4                 0         business  "
      ]
     },
     "execution_count": 89,
     "metadata": {},
     "output_type": "execute_result"
    }
   ],
   "source": [
    "train_df.head()"
   ]
  },
  {
   "cell_type": "markdown",
   "metadata": {},
   "source": [
    "Next, we extract our target variables from the datasets, keeping them separate from the features for model training"
   ]
  },
  {
   "cell_type": "code",
   "execution_count": 91,
   "metadata": {},
   "outputs": [],
   "source": [
    "# train_df target variable\n",
    "y_train_set = train_df[\"Category_Encoded\"]\n",
    "\n",
    "#Test_df target variable\n",
    "y_test_set = test_df[\"Category_Encoded\"]\n"
   ]
  },
  {
   "cell_type": "markdown",
   "metadata": {},
   "source": [
    "__Combining Features and Vectorization:__\n",
    "\n",
    "Before we move on to vectorization, we start by combining all the relevant features in our train_df. This gives us a unified dataset that includes everything the model needs for training. Once we have the combined features, we apply vectorization to transform them into numerical form, so the machine learning model can understand and work with the data.\n",
    "\n",
    "For the test_df, we combine the features in the same way as the training data. The key here is that when we set up the vectorizer for the test data, we use the vocabulary learned from the training data. This is important because the model needs to recognize the same terms and features in both the training and test sets. By setting the vectorizer’s vocabulary to the one learned during training, we ensure that the test data is treated in the same way as the training data, meaning it will have the same feature representation and allow the model to make accurate predictions."
   ]
  },
  {
   "cell_type": "code",
   "execution_count": 93,
   "metadata": {},
   "outputs": [],
   "source": [
    "# Combine Tokenized Columns for Training Data to ensure all text features are used together for vectorization\n",
    "train_df['Combined'] = (\n",
    "    train_df[\"Headlines_Tokens\"] + \n",
    "    train_df[\"Description_Tokens\"] + \n",
    "    train_df[\"Content_Tokens\"] + \n",
    "    train_df[\"Url_Category_Tokens\"]\n",
    ")\n",
    "\n",
    "# Initialize and Apply TF-IDF Vectorizer on Training Data\n",
    "vectorizer = TfidfVectorizer(max_features=6000) \n",
    "X_train_set = vectorizer.fit_transform(train_df['Combined']).toarray()\n",
    "\n",
    "# Extract and Save the Vocabulary\n",
    "# The vectorizer learns a vocabulary (list of unique words) from the training data.\n",
    "feature_names = vectorizer.get_feature_names_out()\n",
    "\n",
    "# Save the vocabulary to a text file\n",
    "np.savetxt('Vectorizer_vocabulary.txt', feature_names.astype(str),fmt='%s')\n",
    "\n",
    "# Just like with training data, we combine the tokenized text columns.\n",
    "test_df['Combined'] = (\n",
    "    test_df[\"Headlines_Tokens\"] + \n",
    "    test_df[\"Description_Tokens\"] + \n",
    "    test_df[\"Content_Tokens\"] + \n",
    "    test_df[\"Url_Category_Tokens\"]\n",
    ")\n",
    "\n",
    "# We initialize a new vectorizer but set its vocabulary to the one learned from training.\n",
    "test_vectorizer = TfidfVectorizer(vocabulary = feature_names)\n",
    "\n",
    "# Transform Test Data Using the Pre-learned Vocabulary\n",
    "X_test_set = vectorizer.transform(test_df['Combined']).toarray()"
   ]
  },
  {
   "cell_type": "markdown",
   "metadata": {},
   "source": [
    "We will split train_df into training and validation subsets, where the validation subset will be used to fine-tune and evaluate the model during development. Meanwhile, test_df will remain untouched and serve as the final benchmark to assess the model's performance on completely unseen data."
   ]
  },
  {
   "cell_type": "code",
   "execution_count": 95,
   "metadata": {},
   "outputs": [],
   "source": [
    "\n",
    "# Splitting the dataset\n",
    "X_train, X_validation, y_train, y_validation = train_test_split(X_train_set, y_train_set, test_size=0.2, random_state=42)\n"
   ]
  },
  {
   "cell_type": "markdown",
   "metadata": {},
   "source": [
    "   \n",
    "The __X_train__ and __y_train subsets__ will be used to train the models, allowing them to learn patterns and relationships from the data. The __X_validation__ and __y_validation__ subsets will be used for validation testing, helping to fine-tune the models and evaluate their performance during training. Finally, the __X_test_set__ and __y_test_set__ will remain untouched and will be used as the final evaluation set. This ensures the models are tested on entirely unseen data, offering an accurate assessment of their overall performance."
   ]
  },
  {
   "cell_type": "markdown",
   "metadata": {},
   "source": [
    "### **7.Model development**"
   ]
  },
  {
   "cell_type": "markdown",
   "metadata": {},
   "source": [
    "In this section, 7 machine learning models were developed. Each model was developed using Scikit-learn's `GridSearchCV` for hyperparameter tuning. The data used to find the best hyperparameters for each model are `X_train` and `y_train` for training the models, and `X_validation` and `y_validation` for testing the models. Since the training and validation data has a class imbalance, Scikit-learn's `log_loss` function was used to select the models with the best hyperparameters. While `accuracy` may show the model's confidence, the `log_loss` function applies a heavy penalty when the model confidently makes misclassifications. This forces the model to be accurate in all classifcations. This is especially important when there is an imbalance in the data used to train the models, where classes with fewer training data may be less accurately classified than classes with the majority of the data. A `log_loss` value close to zero (`log_loss` ~ 0) means the model is confident and accurate in its predictions. A `log_loss` value of one or more (`log_loss` ~ 1 or more) means the model is poor in its predictions. Ideally, we want the `log_loss` of our models to be as close to zero as possible."
   ]
  },
  {
   "cell_type": "markdown",
   "metadata": {},
   "source": [
    "The models are detailed in the following sections. All models were developed with MLflow for recording the different hyperparameter combinations and their respective performances. The hyperparameters that were chosen to be included in the development were chosen based on their importance in improving their respective models. There were hardware limitations when training the models. The actually arguments (values) used in the hyperparameters were set such that there was balance between model performance and training runtime. "
   ]
  },
  {
   "cell_type": "markdown",
   "metadata": {},
   "source": [
    "Starting with setting up the mlflow environment:"
   ]
  },
  {
   "cell_type": "code",
   "execution_count": 101,
   "metadata": {},
   "outputs": [],
   "source": [
    "mlflow.set_tracking_uri('http://127.0.0.1:5000')"
   ]
  },
  {
   "cell_type": "code",
   "execution_count": 102,
   "metadata": {},
   "outputs": [
    {
     "name": "stdout",
     "output_type": "stream",
     "text": [
      "http://127.0.0.1:5000\n"
     ]
    }
   ],
   "source": [
    "print(mlflow.get_tracking_uri())"
   ]
  },
  {
   "cell_type": "markdown",
   "metadata": {},
   "source": [
    "Defining the functions to display the confusion matrix and decisions boundaries for each model."
   ]
  },
  {
   "cell_type": "code",
   "execution_count": 263,
   "metadata": {},
   "outputs": [],
   "source": [
    "def conf_matrix_visualizer(conf_matrix, model_name):\n",
    "    \"\"\"\n",
    "    Plots the confusion matrix of a K-Nearest Neighbor model with 5 classes.\n",
    "\n",
    "    Parameters:\n",
    "    - confusion matrix\n",
    "    \"\"\"\n",
    "\n",
    "    labels = {v: k for k, v in label_mapping.items()}\n",
    "    \n",
    "    class_labels = [labels[i] for i in range(5)]\n",
    "\n",
    "    plt.figure(figsize=(8, 8))\n",
    "    \n",
    "    disp = ConfusionMatrixDisplay(confusion_matrix=conf_matrix, display_labels=class_labels)\n",
    "    disp.plot(cmap=\"Blues\", values_format=\"d\")  # 'd' for integer values\n",
    "    plt.xticks(rotation=90)\n",
    "    plt.title(f\"{model_name} Confusion Matrix\")\n",
    "    plt.show()"
   ]
  },
  {
   "cell_type": "code",
   "execution_count": 287,
   "metadata": {},
   "outputs": [],
   "source": [
    "def decision_boundaries_visualizer(model,\n",
    "                                   model_name,\n",
    "                                   X_train,\n",
    "                                   X_validation,\n",
    "                                   y_train,\n",
    "                                   y_validation,\n",
    "                                   feature_indices=[1, 2]):\n",
    "\n",
    "    \"\"\"\n",
    "    Plot the decision boundary of a KNN model for two selected features.\n",
    "\n",
    "    Parameters:\n",
    "    - model: Trained KNN model\n",
    "    - X_vailation: Feature matrix\n",
    "    - y_validation: Target variable\n",
    "    - feature_indices: Indices of the two features to plot\n",
    "    \"\"\"\n",
    "\n",
    "    # Extract the two selected features\n",
    "    X_fit = X_train[:, feature_indices]\n",
    "    X_selected = X_validation[:, feature_indices]\n",
    "\n",
    "    model.fit(X_fit, y_train)\n",
    "\n",
    "    # Define the min and max for the two features\n",
    "    x_min, x_max = X_selected[:, 0].min() - 1, X_selected[:, 0].max() + 1\n",
    "    y_min, y_max = X_selected[:, 1].min() - 1, X_selected[:, 1].max() + 1\n",
    "\n",
    "    # Create a meshgrid of points\n",
    "    xx, yy = np.meshgrid(\n",
    "        np.arange(x_min, x_max, 0.01),\n",
    "        np.arange(y_min, y_max, 0.01)\n",
    "    )\n",
    "\n",
    "    # Predict on the meshgrid\n",
    "    Z = model.predict(np.c_[xx.ravel(), yy.ravel()])\n",
    "    Z = Z.reshape(xx.shape)\n",
    "\n",
    "    # Plot the decision boundary\n",
    "    plt.figure(figsize=(12, 8))\n",
    "    cmap_background = ListedColormap(['#FFAAAA', '#AAFFAA', '#AAAAFF', '#FFFFAA', '#FFAAFF'])\n",
    "    cmap_points = ListedColormap(['#FF0000', '#00FF00', '#0000FF', '#FFFF00', '#FF00FF'])\n",
    "    plt.contourf(xx, yy, Z, alpha=0.3, cmap=cmap_background)\n",
    "\n",
    "    # Scatter the actual data points\n",
    "    scatter = plt.scatter(\n",
    "        X_selected[:, 0],\n",
    "        X_selected[:, 1],\n",
    "        c=y_validation,\n",
    "        edgecolor='k',\n",
    "        cmap=cmap_points\n",
    "    )\n",
    "\n",
    "    # Map numeric labels to class names\n",
    "    labels = {v: k for k, v in label_mapping.items()}\n",
    "    legend_labels = [labels[label] for label in np.unique(y_validation)]\n",
    "\n",
    "    # Add legend with class names instead of numeric labels\n",
    "    handles, labels = scatter.legend_elements()\n",
    "    plt.legend(handles, legend_labels, title='Classes')\n",
    "    \n",
    "    # Label the plot\n",
    "    plt.title(f'Decision Boundaries of the {model_name} Model')\n",
    "    plt.xlabel(f'Feature {feature_indices[0]}')\n",
    "    plt.ylabel(f'Feature {feature_indices[1]}')\n",
    "    plt.show()"
   ]
  },
  {
   "cell_type": "markdown",
   "metadata": {},
   "source": [
    "#### ***7.1.K-Nearest Neighbor***"
   ]
  },
  {
   "cell_type": "markdown",
   "metadata": {},
   "source": [
    "Setting the MLflow environment for the K-Nearest Neighbor (KNN) model for hyperparameter tuning and selection."
   ]
  },
  {
   "cell_type": "code",
   "execution_count": 108,
   "metadata": {},
   "outputs": [
    {
     "data": {
      "text/plain": [
       "<Experiment: artifact_location='mlflow-artifacts:/254253176734403941', creation_time=1737828671281, experiment_id='254253176734403941', last_update_time=1737828671281, lifecycle_stage='active', name='KNN Model', tags={}>"
      ]
     },
     "execution_count": 108,
     "metadata": {},
     "output_type": "execute_result"
    }
   ],
   "source": [
    "knn_experiment_name = 'KNN Model'\n",
    "#experiment_id = mlflow.create_experiment(knn_experiment_name)\n",
    "mlflow.set_experiment(knn_experiment_name)"
   ]
  },
  {
   "cell_type": "markdown",
   "metadata": {},
   "source": [
    "Developing the model and tracking the metrics on mlflow."
   ]
  },
  {
   "cell_type": "markdown",
   "metadata": {},
   "source": [
    "##### *7.1.1.Developing the model and tracking the metrics on mlflow.*"
   ]
  },
  {
   "cell_type": "markdown",
   "metadata": {},
   "source": [
    "The `KNeighborsClassifier` from the `neighbors` module in Scikit-learn library works differently from the other models developed in this notebook. It does not train and learn from the training data like other models. Instead, it stores the data and  classifies new data by comparing it to stored examples. This model generally takes long to develop especially for large datasets."
   ]
  },
  {
   "cell_type": "code",
   "execution_count": 112,
   "metadata": {},
   "outputs": [],
   "source": [
    "def develop_knn(X_train, X_validation, y_train, y_validation):\n",
    "    \"\"\"\n",
    "    - Trains a K-Nearest Neighbor model using a GridSearchCV for\n",
    "    hyperparameter tuning.\n",
    "    - Logs the metrics of model onto an MLflow server.\n",
    "    \n",
    "    Parameters:\n",
    "    - X_train - Training features\n",
    "    - y_train - Training target variable\n",
    "    - X_validation - Testing features\n",
    "    - y_validation - Testing variables\n",
    "\n",
    "    Returns:\n",
    "    - best_model - Model that performed the best\n",
    "    - conf_matrix - The confusion matrix of the best model\n",
    "    - best_report - The classification report of the best model\n",
    "    \"\"\"\n",
    "\n",
    "    knn_model = KNeighborsClassifier()\n",
    "    # Define parameter grid\n",
    "    param_grid = {\n",
    "        'n_neighbors': [30, 20],\n",
    "        'weights': ['uniform', 'distance'],\n",
    "        'metric': ['euclidean', 'manhattan']\n",
    "    }\n",
    "\n",
    "    # Set up the scorer for the GridSearchCV\n",
    "    scorer = make_scorer(log_loss, greater_is_better=False, needs_proba=True)\n",
    "    \n",
    "    # Set up GridSearchCV\n",
    "    knn_grid_search = GridSearchCV(\n",
    "        knn_model,\n",
    "        param_grid,\n",
    "        cv=2,\n",
    "        scoring=scorer,\n",
    "        refit='log_loss',\n",
    "        return_train_score=True,\n",
    "        n_jobs=-1\n",
    "    )\n",
    "    \n",
    "    # Start MLflow run\n",
    "    with mlflow.start_run(run_name='KNN GridSearchCV Try 8'):\n",
    "        # Fit the model\n",
    "        knn_grid_search.fit(X_train, y_train)\n",
    "\n",
    "        # Log metrics for all parameter combinations\n",
    "        results = knn_grid_search.cv_results_\n",
    "        for i in range(len(results['params'])):\n",
    "            params = results['params'][i]\n",
    "            \n",
    "            # Predict on the validation set for each parameter combination\n",
    "            model = knn_grid_search.estimator.set_params(**params)\n",
    "            model.fit(X_train, y_train)\n",
    "            knn_y_pred = model.predict(X_validation)\n",
    "            knn_y_pred_proba = model.predict_proba(X_validation)\n",
    "            \n",
    "            # Generate classification report\n",
    "            report = classification_report(y_validation, knn_y_pred, output_dict=True)\n",
    "            log_loss_value = log_loss(y_validation, knn_y_pred_proba)\n",
    "            \n",
    "            # Log metrics and parameters for each parameter combination\n",
    "            with mlflow.start_run(run_name=f\"Run {i + 1}\", nested=True):\n",
    "                # Log parameters\n",
    "                mlflow.log_params(params)\n",
    "                \n",
    "                # Log metrics from the classification report\n",
    "                mlflow.log_metric('accuracy', report['accuracy'])\n",
    "                mlflow.log_metric('precision_weighted', report['weighted avg']['precision'])\n",
    "                mlflow.log_metric('recall_weighted', report['weighted avg']['recall'])\n",
    "                mlflow.log_metric('f1_score_weighted', report['weighted avg']['f1-score'])\n",
    "                mlflow.log_metric('log_loss', log_loss_value)\n",
    "    \n",
    "        # Log the best model\n",
    "        best_model = knn_grid_search.best_estimator_\n",
    "        best_params = knn_grid_search.best_params_\n",
    "        y_best_pred = best_model.predict(X_validation)\n",
    "        y_best_pred_proba = best_model.predict_proba(X_validation)\n",
    "        best_report = classification_report(y_validation, y_best_pred, output_dict=True)\n",
    "        best_log_loss_value = log_loss(y_validation, y_best_pred_proba)\n",
    "        conf_matrix = confusion_matrix(y_validation, y_best_pred)\n",
    "        \n",
    "        # Log the best parameters\n",
    "        mlflow.log_params(best_params)\n",
    "        \n",
    "        # Log metrics for the best model\n",
    "        mlflow.log_metric('best_accuracy', best_report['accuracy'])\n",
    "        mlflow.log_metric('best_precision_weighted', best_report['weighted avg']['precision'])\n",
    "        mlflow.log_metric('best_recall_weighted', best_report['weighted avg']['recall'])\n",
    "        mlflow.log_metric('best_f1_score_weighted', best_report['weighted avg']['f1-score'])\n",
    "        mlflow.log_metric('best_log_loss', best_log_loss_value)\n",
    "        \n",
    "        # Log the best model\n",
    "        mlflow.sklearn.log_model(best_model, 'best_model')\n",
    "    \n",
    "    # Output results\n",
    "    print('Best Parameters:', knn_grid_search.best_params_)\n",
    "    print('Test Set Accuracy (Best Model):', best_report['accuracy'])\n",
    "    print('Best cross validation log_loss (train):', -knn_grid_search.best_score_)\n",
    "    print('Best log loss (validation):', best_log_loss_value)\n",
    "\n",
    "    # Returning the best model\n",
    "    return best_model, conf_matrix, best_report"
   ]
  },
  {
   "cell_type": "markdown",
   "metadata": {},
   "source": [
    "Getting the best KNN model (`best_knn_model`) along with its confusion matrix (`knn_conf_matrix`) and classification report (`knn_class_report`) based on the best log_loss value."
   ]
  },
  {
   "cell_type": "code",
   "execution_count": 114,
   "metadata": {
    "scrolled": true
   },
   "outputs": [
    {
     "name": "stdout",
     "output_type": "stream",
     "text": [
      "🏃 View run Run 1 at: http://127.0.0.1:5000/#/experiments/254253176734403941/runs/f94a273dca9f4ab687ed5fa2d83bcdee\n",
      "🧪 View experiment at: http://127.0.0.1:5000/#/experiments/254253176734403941\n",
      "🏃 View run Run 2 at: http://127.0.0.1:5000/#/experiments/254253176734403941/runs/52c624cebd88435eace95db2396940ad\n",
      "🧪 View experiment at: http://127.0.0.1:5000/#/experiments/254253176734403941\n",
      "🏃 View run Run 3 at: http://127.0.0.1:5000/#/experiments/254253176734403941/runs/098d61a66bf34c149603f1f9fe52edb8\n",
      "🧪 View experiment at: http://127.0.0.1:5000/#/experiments/254253176734403941\n",
      "🏃 View run Run 4 at: http://127.0.0.1:5000/#/experiments/254253176734403941/runs/62fcc8f15cd8478f93d1a650cae35773\n",
      "🧪 View experiment at: http://127.0.0.1:5000/#/experiments/254253176734403941\n",
      "🏃 View run Run 5 at: http://127.0.0.1:5000/#/experiments/254253176734403941/runs/2a45d621214846e597fb097e3b843561\n",
      "🧪 View experiment at: http://127.0.0.1:5000/#/experiments/254253176734403941\n",
      "🏃 View run Run 6 at: http://127.0.0.1:5000/#/experiments/254253176734403941/runs/8b4a395b7bf44eb1b3fb130a80c298d2\n",
      "🧪 View experiment at: http://127.0.0.1:5000/#/experiments/254253176734403941\n",
      "🏃 View run Run 7 at: http://127.0.0.1:5000/#/experiments/254253176734403941/runs/04169266f0bd487487caca8ab17b3020\n",
      "🧪 View experiment at: http://127.0.0.1:5000/#/experiments/254253176734403941\n",
      "🏃 View run Run 8 at: http://127.0.0.1:5000/#/experiments/254253176734403941/runs/0e23025cf2534bd5b18bad45a8940b8b\n",
      "🧪 View experiment at: http://127.0.0.1:5000/#/experiments/254253176734403941\n"
     ]
    },
    {
     "name": "stderr",
     "output_type": "stream",
     "text": [
      "2025/02/02 11:58:15 WARNING mlflow.models.model: Model logged without a signature and input example. Please set `input_example` parameter when logging the model to auto infer the model signature.\n"
     ]
    },
    {
     "name": "stdout",
     "output_type": "stream",
     "text": [
      "🏃 View run KNN GridSearchCV Try 8 at: http://127.0.0.1:5000/#/experiments/254253176734403941/runs/d9d375d2ce294306a9067f72136d4f86\n",
      "🧪 View experiment at: http://127.0.0.1:5000/#/experiments/254253176734403941\n",
      "Best Parameters: {'metric': 'euclidean', 'n_neighbors': 30, 'weights': 'distance'}\n",
      "Test Set Accuracy (Best Model): 0.9726526891522334\n",
      "Best cross validation log_loss (train): 0.19379423120257172\n",
      "Best log loss (validation): 0.12754628812478816\n"
     ]
    }
   ],
   "source": [
    "best_knn_model, knn_conf_matrix, knn_class_report = develop_knn(X_train, X_validation, y_train, y_validation)"
   ]
  },
  {
   "cell_type": "markdown",
   "metadata": {},
   "source": [
    "The training cross validation (CV) `log_loss` is good, at 0.19379, with an accuracy of 0.97083. What's better is that the `log_loss` value slightly improves on the validation testing data, going down to 0.12755. This means that the model generalised slightly better to the testing data which was unseen to the model before testing. The `log_loss` values themselves are decently close to zero, meaning the model is likely not guessing its predictions."
   ]
  },
  {
   "cell_type": "markdown",
   "metadata": {},
   "source": [
    "##### *7.1.2.Visualizing the confusion matrix for the best KNN model*"
   ]
  },
  {
   "cell_type": "code",
   "execution_count": 265,
   "metadata": {},
   "outputs": [
    {
     "data": {
      "text/plain": [
       "<Figure size 800x800 with 0 Axes>"
      ]
     },
     "metadata": {},
     "output_type": "display_data"
    },
    {
     "data": {
      "image/png": "[encoded data removed]",
      "text/plain": [
       "<Figure size 640x480 with 2 Axes>"
      ]
     },
     "metadata": {},
     "output_type": "display_data"
    }
   ],
   "source": [
    "conf_matrix_visualizer(knn_conf_matrix, 'K-Nearest Neighbor')"
   ]
  },
  {
   "cell_type": "markdown",
   "metadata": {},
   "source": [
    "The confusion matrix shows the number of classifications in the validation (testing) data that were correctly predicted by the model. The correct predictions for each class are provided diagonally, where the class in the `True label` (vertical axis) meets the class in the `Predicted label` (horizontal axis). The number of wrong predictions appear in the rest of the cells. In the case of this KNN model, the model had a decent performance, correctly predicting most of the data. However, it had some notable incorrect predictions, particularly between the `business` and `technology` classes which have the highest misclassifications."
   ]
  },
  {
   "cell_type": "markdown",
   "metadata": {},
   "source": [
    "##### *7.1.3.Visualizing the decision boundaries for the KNN model*"
   ]
  },
  {
   "cell_type": "markdown",
   "metadata": {},
   "source": [
    "Visualization is only possible between two features at a time. Change the input `feature_indices` to visualize between the selected features."
   ]
  },
  {
   "cell_type": "code",
   "execution_count": 291,
   "metadata": {},
   "outputs": [
    {
     "data": {
      "image/png": "[encoded data removed]",
      "text/plain": [
       "<Figure size 1200x800 with 1 Axes>"
      ]
     },
     "metadata": {},
     "output_type": "display_data"
    }
   ],
   "source": [
    "feature_indices = [3, 2] # Value range is [0-4386, 0-5999], shape(4387, 6000)\n",
    "decision_boundaries_visualizer(best_knn_model,\n",
    "                               'k-Nearest Neighbor',\n",
    "                               X_train,\n",
    "                               X_validation,\n",
    "                               y_train,\n",
    "                               y_validation,\n",
    "                               feature_indices\n",
    "                             )"
   ]
  },
  {
   "cell_type": "markdown",
   "metadata": {},
   "source": [
    "Depending on the input in the `feature_indices`, the displayed graph should show a colour-shaded canvas with each colour representing where the model would predict each class to be (i.e. the model's prediction probability for each class for the selected features). The dots are datapoints of the actual classes between the two selected features. If the colour of the dot does not match the colour of its background, then the model misclassified this datapoint. If the colours match between the datapoints and the background, then the model classified these datapoints correctly. This is the case for all decision boundary visuals of the other models in this notebook, so, bare this in mind when looking at these visuals."
   ]
  },
  {
   "cell_type": "markdown",
   "metadata": {},
   "source": [
    "#### ***7.2.Naive Bayes***"
   ]
  },
  {
   "cell_type": "markdown",
   "metadata": {},
   "source": [
    "Setting up the mlflow environment for the Naive Bayes (NB) model"
   ]
  },
  {
   "cell_type": "code",
   "execution_count": 125,
   "metadata": {},
   "outputs": [
    {
     "data": {
      "text/plain": [
       "<Experiment: artifact_location='mlflow-artifacts:/772113178670095727', creation_time=1737897353154, experiment_id='772113178670095727', last_update_time=1737897353154, lifecycle_stage='active', name='Naive Bayes Model', tags={}>"
      ]
     },
     "execution_count": 125,
     "metadata": {},
     "output_type": "execute_result"
    }
   ],
   "source": [
    "nb_experiment_name = 'Naive Bayes Model'\n",
    "#experiment_id = mlflow.create_experiment(nb_experiment_name)\n",
    "mlflow.set_experiment(nb_experiment_name)"
   ]
  },
  {
   "cell_type": "markdown",
   "metadata": {},
   "source": [
    "##### *7.2.1.Developing the model and tracking the metrics on mlflow.*"
   ]
  },
  {
   "cell_type": "markdown",
   "metadata": {},
   "source": [
    "As this is a classification problem, the `MultinomialNB` model from the `naive_bayes` module in the Scikit-learn library was used in this sub-section."
   ]
  },
  {
   "cell_type": "code",
   "execution_count": 128,
   "metadata": {},
   "outputs": [],
   "source": [
    "def develop_nb(X_train, X_validation, y_train, y_validation):\n",
    "    \"\"\"\n",
    "    - Trains a Multinomial Naive Bayes model using a GridSearchCV for\n",
    "    hyperparameter tuning.\n",
    "    - Logs the metrics of model onto an MLflow server.\n",
    "    \n",
    "    Parameters:\n",
    "    - X_train - Training features\n",
    "    - y_train - Training target variable\n",
    "    - X_validation - Testing features\n",
    "    - y_validation - Testing variables\n",
    "\n",
    "    Returns:\n",
    "    - best_model - Model that performed the best\n",
    "    - conf_matrix - The confusion matrix of the best model\n",
    "    - best_report - The classification report of the best model\n",
    "    \"\"\"\n",
    "\n",
    "    # Define model\n",
    "    nb_model = MultinomialNB()\n",
    "\n",
    "    # Define parameter grid\n",
    "    num_classes = len(np.unique(y_train))\n",
    "    param_grid = {\n",
    "        'alpha': [0.1, 1.0, 5, 10],\n",
    "        'fit_prior': [True, False],  \n",
    "        'class_prior': [\n",
    "            [1/num_classes] * num_classes,\n",
    "            [0.1, 0.2, 0.3, 0.2, 0.2],\n",
    "            [0.1, 0.1, 0.2, 0.4, 0.2],\n",
    "            [0.3, 0.3, 0.05, 0.2, 0.15],\n",
    "            [0.25, 0.25, 0.25, 0.15, 0.1],\n",
    "            [0.5, 0.1, 0.1, 0.1, 0.2],\n",
    "            None\n",
    "        ]\n",
    "    }\n",
    "\n",
    "    # Define scorer\n",
    "    scorer = make_scorer(log_loss, greater_is_better=False, needs_proba=True)\n",
    "\n",
    "    # Define GridSearch\n",
    "    nb_grid_search = GridSearchCV(\n",
    "        nb_model,\n",
    "        param_grid,\n",
    "        scoring=scorer,\n",
    "        refit='log_loss',\n",
    "        cv=3,\n",
    "        return_train_score=True,\n",
    "        n_jobs=-1\n",
    "    )\n",
    "\n",
    "    # Start mlflow run\n",
    "    with mlflow.start_run(run_name=\"NB GridSearchCV Try 6\"):\n",
    "\n",
    "        # Fit the grid search model\n",
    "        nb_grid_search.fit(X_train, y_train)\n",
    "\n",
    "        # Log metrics for all parameter combinations\n",
    "        results = nb_grid_search.cv_results_\n",
    "\n",
    "        for i in range(len(results['params'])):\n",
    "            params = results['params'][i]\n",
    "\n",
    "            # Predict on the validation set for each parameter combination\n",
    "            model = nb_grid_search.estimator.set_params(**params)\n",
    "            model.fit(X_train, y_train)\n",
    "            nb_y_pred = model.predict(X_validation)\n",
    "            nb_y_pred_proba = model.predict_proba(X_validation)\n",
    "\n",
    "            # Classification report and log loss\n",
    "            report = classification_report(y_validation, nb_y_pred, output_dict=True)\n",
    "            log_loss_value = log_loss(y_validation, nb_y_pred_proba)\n",
    "\n",
    "            with mlflow.start_run(run_name=f\"Run {i + 1}\", nested=True):\n",
    "                # Log parameters\n",
    "                mlflow.log_params(params)\n",
    "\n",
    "                # Log metrics from the classification report\n",
    "                mlflow.log_metric('accuracy', report['accuracy'])\n",
    "                mlflow.log_metric('precision_weighted', report['weighted avg']['precision'])\n",
    "                mlflow.log_metric('recall_weighted', report['weighted avg']['recall'])\n",
    "                mlflow.log_metric('f1_score_weighted', report['weighted avg']['f1-score'])\n",
    "                mlflow.log_metric('log_loss', log_loss_value)\n",
    "\n",
    "\n",
    "        # Log the best model\n",
    "        best_model = nb_grid_search.best_estimator_\n",
    "        best_params = nb_grid_search.best_params_\n",
    "        y_best_pred = best_model.predict(X_validation)\n",
    "        y_best_pred_proba = best_model.predict_proba(X_validation)\n",
    "        best_report = classification_report(y_validation, y_best_pred, output_dict=True)\n",
    "        best_log_loss_value = log_loss(y_validation, y_best_pred_proba)\n",
    "        conf_matrix = confusion_matrix(y_validation, y_best_pred)\n",
    "\n",
    "        # Log the best parameters\n",
    "        mlflow.log_params(best_params)\n",
    "        \n",
    "        # Log metrics for the best model\n",
    "        mlflow.log_metric('best_accuracy', best_report['accuracy'])\n",
    "        mlflow.log_metric('best_precision_weighted', best_report['weighted avg']['precision'])\n",
    "        mlflow.log_metric('best_recall_weighted', best_report['weighted avg']['recall'])\n",
    "        mlflow.log_metric('best_f1_score_weighted', best_report['weighted avg']['f1-score'])\n",
    "        mlflow.log_metric('best_log_loss', best_log_loss_value)\n",
    "\n",
    "        mlflow.sklearn.log_model(best_model, 'best_model')\n",
    "    \n",
    "    # Output results\n",
    "    print('Best Parameters:', nb_grid_search.best_params_)\n",
    "    print('Test Set Accuracy (Best Model):', best_report['accuracy'])\n",
    "    print('Best cross validation log_loss (train):', -nb_grid_search.best_score_)\n",
    "    print('Best log loss (validation):', best_log_loss_value)\n",
    "\n",
    "    # Returning the best model\n",
    "    return best_model, conf_matrix, best_report\n"
   ]
  },
  {
   "cell_type": "markdown",
   "metadata": {},
   "source": [
    "Getting the best NB model (`best_nb_model`) along with its confusion matrix (`nb_conf_matrix`) and classification report (`nb_class_report`) based on the best log_loss value."
   ]
  },
  {
   "cell_type": "code",
   "execution_count": 130,
   "metadata": {},
   "outputs": [
    {
     "name": "stdout",
     "output_type": "stream",
     "text": [
      "🏃 View run Run 1 at: http://127.0.0.1:5000/#/experiments/772113178670095727/runs/c8fa904416e64380b3518eaaa22f62f9\n",
      "🧪 View experiment at: http://127.0.0.1:5000/#/experiments/772113178670095727\n",
      "🏃 View run Run 2 at: http://127.0.0.1:5000/#/experiments/772113178670095727/runs/13cd490e2a72458c90733094155f3193\n",
      "🧪 View experiment at: http://127.0.0.1:5000/#/experiments/772113178670095727\n",
      "🏃 View run Run 3 at: http://127.0.0.1:5000/#/experiments/772113178670095727/runs/d503f9a8cbe8461897d56dc04c4d5845\n",
      "🧪 View experiment at: http://127.0.0.1:5000/#/experiments/772113178670095727\n",
      "🏃 View run Run 4 at: http://127.0.0.1:5000/#/experiments/772113178670095727/runs/186ff21f4c9a48fdac25aace9d6bf4ef\n",
      "🧪 View experiment at: http://127.0.0.1:5000/#/experiments/772113178670095727\n",
      "🏃 View run Run 5 at: http://127.0.0.1:5000/#/experiments/772113178670095727/runs/55dd0af82f534f6f8911576b7c84a1b0\n",
      "🧪 View experiment at: http://127.0.0.1:5000/#/experiments/772113178670095727\n",
      "🏃 View run Run 6 at: http://127.0.0.1:5000/#/experiments/772113178670095727/runs/e81cbc6ec5694d6cbe5576cb382bfae2\n",
      "🧪 View experiment at: http://127.0.0.1:5000/#/experiments/772113178670095727\n",
      "🏃 View run Run 7 at: http://127.0.0.1:5000/#/experiments/772113178670095727/runs/d8c18a3d9a234dd99bbe3e44044aab37\n",
      "🧪 View experiment at: http://127.0.0.1:5000/#/experiments/772113178670095727\n",
      "🏃 View run Run 8 at: http://127.0.0.1:5000/#/experiments/772113178670095727/runs/9e72f53dc7b2409887fcf0b481606a73\n",
      "🧪 View experiment at: http://127.0.0.1:5000/#/experiments/772113178670095727\n",
      "🏃 View run Run 9 at: http://127.0.0.1:5000/#/experiments/772113178670095727/runs/041f15ddbf084e2f8910c1ca4f2e7e46\n",
      "🧪 View experiment at: http://127.0.0.1:5000/#/experiments/772113178670095727\n",
      "🏃 View run Run 10 at: http://127.0.0.1:5000/#/experiments/772113178670095727/runs/a05c68abe3484ae1a6dc474517742c22\n",
      "🧪 View experiment at: http://127.0.0.1:5000/#/experiments/772113178670095727\n",
      "🏃 View run Run 11 at: http://127.0.0.1:5000/#/experiments/772113178670095727/runs/668dc637997b435c80abf60e496daacf\n",
      "🧪 View experiment at: http://127.0.0.1:5000/#/experiments/772113178670095727\n",
      "🏃 View run Run 12 at: http://127.0.0.1:5000/#/experiments/772113178670095727/runs/d2fc571ea3b34241af5edf2e8adb09d9\n",
      "🧪 View experiment at: http://127.0.0.1:5000/#/experiments/772113178670095727\n",
      "🏃 View run Run 13 at: http://127.0.0.1:5000/#/experiments/772113178670095727/runs/5dcea77d5aa947da87cc070899f96a68\n",
      "🧪 View experiment at: http://127.0.0.1:5000/#/experiments/772113178670095727\n",
      "🏃 View run Run 14 at: http://127.0.0.1:5000/#/experiments/772113178670095727/runs/c5162c0fa5984211a997409d48f31d4c\n",
      "🧪 View experiment at: http://127.0.0.1:5000/#/experiments/772113178670095727\n",
      "🏃 View run Run 15 at: http://127.0.0.1:5000/#/experiments/772113178670095727/runs/37bdda2990554de0b6e6d6e6b73abc34\n",
      "🧪 View experiment at: http://127.0.0.1:5000/#/experiments/772113178670095727\n",
      "🏃 View run Run 16 at: http://127.0.0.1:5000/#/experiments/772113178670095727/runs/73b0309ba02443e5a73fbceca4cff274\n",
      "🧪 View experiment at: http://127.0.0.1:5000/#/experiments/772113178670095727\n",
      "🏃 View run Run 17 at: http://127.0.0.1:5000/#/experiments/772113178670095727/runs/3307b031f83d4e7b8a842b5e35026944\n",
      "🧪 View experiment at: http://127.0.0.1:5000/#/experiments/772113178670095727\n",
      "🏃 View run Run 18 at: http://127.0.0.1:5000/#/experiments/772113178670095727/runs/0caa33a3c8e3463fa6998fd33b9cb740\n",
      "🧪 View experiment at: http://127.0.0.1:5000/#/experiments/772113178670095727\n",
      "🏃 View run Run 19 at: http://127.0.0.1:5000/#/experiments/772113178670095727/runs/b909d110a89f4516a290349c7bf4bbf4\n",
      "🧪 View experiment at: http://127.0.0.1:5000/#/experiments/772113178670095727\n",
      "🏃 View run Run 20 at: http://127.0.0.1:5000/#/experiments/772113178670095727/runs/18f2ce957d9a46f7b382ef48cbe61fb2\n",
      "🧪 View experiment at: http://127.0.0.1:5000/#/experiments/772113178670095727\n",
      "🏃 View run Run 21 at: http://127.0.0.1:5000/#/experiments/772113178670095727/runs/d00c7cdff00f45cd9a6afa5089400a74\n",
      "🧪 View experiment at: http://127.0.0.1:5000/#/experiments/772113178670095727\n",
      "🏃 View run Run 22 at: http://127.0.0.1:5000/#/experiments/772113178670095727/runs/3f4c7e7c4abf477a9b70be0011862ba6\n",
      "🧪 View experiment at: http://127.0.0.1:5000/#/experiments/772113178670095727\n",
      "🏃 View run Run 23 at: http://127.0.0.1:5000/#/experiments/772113178670095727/runs/10119504add549ab873aec66e9f68fe4\n",
      "🧪 View experiment at: http://127.0.0.1:5000/#/experiments/772113178670095727\n",
      "🏃 View run Run 24 at: http://127.0.0.1:5000/#/experiments/772113178670095727/runs/abe06c89ce3c4388aca29f117225fb85\n",
      "🧪 View experiment at: http://127.0.0.1:5000/#/experiments/772113178670095727\n",
      "🏃 View run Run 25 at: http://127.0.0.1:5000/#/experiments/772113178670095727/runs/fdd1aae3a01d4e49be7b748d7db6d4fe\n",
      "🧪 View experiment at: http://127.0.0.1:5000/#/experiments/772113178670095727\n",
      "🏃 View run Run 26 at: http://127.0.0.1:5000/#/experiments/772113178670095727/runs/68f66a110f044f17a2b18e95f60cd213\n",
      "🧪 View experiment at: http://127.0.0.1:5000/#/experiments/772113178670095727\n",
      "🏃 View run Run 27 at: http://127.0.0.1:5000/#/experiments/772113178670095727/runs/b5686e83a2ef4dd9aa37eecf86b9f34a\n",
      "🧪 View experiment at: http://127.0.0.1:5000/#/experiments/772113178670095727\n",
      "🏃 View run Run 28 at: http://127.0.0.1:5000/#/experiments/772113178670095727/runs/bd5a4e0c11564d60922fbdaacac66b04\n",
      "🧪 View experiment at: http://127.0.0.1:5000/#/experiments/772113178670095727\n",
      "🏃 View run Run 29 at: http://127.0.0.1:5000/#/experiments/772113178670095727/runs/8b9e65232c2345779b32fbb3eedf7e25\n",
      "🧪 View experiment at: http://127.0.0.1:5000/#/experiments/772113178670095727\n",
      "🏃 View run Run 30 at: http://127.0.0.1:5000/#/experiments/772113178670095727/runs/eccd509465c64e9f86be980990e231b6\n",
      "🧪 View experiment at: http://127.0.0.1:5000/#/experiments/772113178670095727\n",
      "🏃 View run Run 31 at: http://127.0.0.1:5000/#/experiments/772113178670095727/runs/6dc6b2013cb541cabab0007d4ab735dd\n",
      "🧪 View experiment at: http://127.0.0.1:5000/#/experiments/772113178670095727\n",
      "🏃 View run Run 32 at: http://127.0.0.1:5000/#/experiments/772113178670095727/runs/4454612344db4171850234e5f84af60d\n",
      "🧪 View experiment at: http://127.0.0.1:5000/#/experiments/772113178670095727\n",
      "🏃 View run Run 33 at: http://127.0.0.1:5000/#/experiments/772113178670095727/runs/5d8ffcd998b9426db61667506ae883a4\n",
      "🧪 View experiment at: http://127.0.0.1:5000/#/experiments/772113178670095727\n",
      "🏃 View run Run 34 at: http://127.0.0.1:5000/#/experiments/772113178670095727/runs/8767b0395a8f4e1b89aee3536dd8f79c\n",
      "🧪 View experiment at: http://127.0.0.1:5000/#/experiments/772113178670095727\n",
      "🏃 View run Run 35 at: http://127.0.0.1:5000/#/experiments/772113178670095727/runs/0cde48819ee04eac8b6110fc84703dac\n",
      "🧪 View experiment at: http://127.0.0.1:5000/#/experiments/772113178670095727\n",
      "🏃 View run Run 36 at: http://127.0.0.1:5000/#/experiments/772113178670095727/runs/c56ad06f4f5d4362b7609e6c034a2037\n",
      "🧪 View experiment at: http://127.0.0.1:5000/#/experiments/772113178670095727\n",
      "🏃 View run Run 37 at: http://127.0.0.1:5000/#/experiments/772113178670095727/runs/3a2786eea0d24f58b2e51f8fa1420e19\n",
      "🧪 View experiment at: http://127.0.0.1:5000/#/experiments/772113178670095727\n",
      "🏃 View run Run 38 at: http://127.0.0.1:5000/#/experiments/772113178670095727/runs/b759dfd2117445b7aaec51ce899646d8\n",
      "🧪 View experiment at: http://127.0.0.1:5000/#/experiments/772113178670095727\n",
      "🏃 View run Run 39 at: http://127.0.0.1:5000/#/experiments/772113178670095727/runs/f2b14034cf5b45c28bfdb2ce05262806\n",
      "🧪 View experiment at: http://127.0.0.1:5000/#/experiments/772113178670095727\n",
      "🏃 View run Run 40 at: http://127.0.0.1:5000/#/experiments/772113178670095727/runs/bea58b5a0f06497196a5dffadc9d17dd\n",
      "🧪 View experiment at: http://127.0.0.1:5000/#/experiments/772113178670095727\n",
      "🏃 View run Run 41 at: http://127.0.0.1:5000/#/experiments/772113178670095727/runs/207cc5233e884b6baae099211c0356b7\n",
      "🧪 View experiment at: http://127.0.0.1:5000/#/experiments/772113178670095727\n",
      "🏃 View run Run 42 at: http://127.0.0.1:5000/#/experiments/772113178670095727/runs/3eeaf3f94eea43a99dcabca59b2663af\n",
      "🧪 View experiment at: http://127.0.0.1:5000/#/experiments/772113178670095727\n",
      "🏃 View run Run 43 at: http://127.0.0.1:5000/#/experiments/772113178670095727/runs/dc41773f2841476ebf0ef57366bc1fd9\n",
      "🧪 View experiment at: http://127.0.0.1:5000/#/experiments/772113178670095727\n",
      "🏃 View run Run 44 at: http://127.0.0.1:5000/#/experiments/772113178670095727/runs/569f9aa4d46f40deb84ba0cf4324020e\n",
      "🧪 View experiment at: http://127.0.0.1:5000/#/experiments/772113178670095727\n",
      "🏃 View run Run 45 at: http://127.0.0.1:5000/#/experiments/772113178670095727/runs/2fced3c7070046999e68a3fdcc65cae8\n",
      "🧪 View experiment at: http://127.0.0.1:5000/#/experiments/772113178670095727\n",
      "🏃 View run Run 46 at: http://127.0.0.1:5000/#/experiments/772113178670095727/runs/c1f99d9aa6c2468aadcbe6bf598a7569\n",
      "🧪 View experiment at: http://127.0.0.1:5000/#/experiments/772113178670095727\n",
      "🏃 View run Run 47 at: http://127.0.0.1:5000/#/experiments/772113178670095727/runs/eaba1345ee1549a0809ec4fc30330711\n",
      "🧪 View experiment at: http://127.0.0.1:5000/#/experiments/772113178670095727\n",
      "🏃 View run Run 48 at: http://127.0.0.1:5000/#/experiments/772113178670095727/runs/0413b4ae244f41d2930794e70438d064\n",
      "🧪 View experiment at: http://127.0.0.1:5000/#/experiments/772113178670095727\n",
      "🏃 View run Run 49 at: http://127.0.0.1:5000/#/experiments/772113178670095727/runs/30bc2183b84345efad9b63a7f9d339de\n",
      "🧪 View experiment at: http://127.0.0.1:5000/#/experiments/772113178670095727\n",
      "🏃 View run Run 50 at: http://127.0.0.1:5000/#/experiments/772113178670095727/runs/2efee6e6f3e54f4fae269cfd98fd52b4\n",
      "🧪 View experiment at: http://127.0.0.1:5000/#/experiments/772113178670095727\n",
      "🏃 View run Run 51 at: http://127.0.0.1:5000/#/experiments/772113178670095727/runs/1e23cb640d6941fdb924f088aecc9b64\n",
      "🧪 View experiment at: http://127.0.0.1:5000/#/experiments/772113178670095727\n",
      "🏃 View run Run 52 at: http://127.0.0.1:5000/#/experiments/772113178670095727/runs/7e327bdb5df54472bd6c1ec9fb9af8c6\n",
      "🧪 View experiment at: http://127.0.0.1:5000/#/experiments/772113178670095727\n",
      "🏃 View run Run 53 at: http://127.0.0.1:5000/#/experiments/772113178670095727/runs/ce4150d0e1b14d14a47b2b9f80cb9842\n",
      "🧪 View experiment at: http://127.0.0.1:5000/#/experiments/772113178670095727\n",
      "🏃 View run Run 54 at: http://127.0.0.1:5000/#/experiments/772113178670095727/runs/e2472158b05c4698bdbe718ddb6bcd55\n",
      "🧪 View experiment at: http://127.0.0.1:5000/#/experiments/772113178670095727\n",
      "🏃 View run Run 55 at: http://127.0.0.1:5000/#/experiments/772113178670095727/runs/ad4edf732b22438fa7abb5918b7e36e7\n",
      "🧪 View experiment at: http://127.0.0.1:5000/#/experiments/772113178670095727\n",
      "🏃 View run Run 56 at: http://127.0.0.1:5000/#/experiments/772113178670095727/runs/f055851e786a48e7905f8d0136f56705\n",
      "🧪 View experiment at: http://127.0.0.1:5000/#/experiments/772113178670095727\n"
     ]
    },
    {
     "name": "stderr",
     "output_type": "stream",
     "text": [
      "2025/02/02 11:58:56 WARNING mlflow.models.model: Model logged without a signature and input example. Please set `input_example` parameter when logging the model to auto infer the model signature.\n"
     ]
    },
    {
     "name": "stdout",
     "output_type": "stream",
     "text": [
      "🏃 View run NB GridSearchCV Try 6 at: http://127.0.0.1:5000/#/experiments/772113178670095727/runs/d919cee02b70435ea8a46aef31cb9d05\n",
      "🧪 View experiment at: http://127.0.0.1:5000/#/experiments/772113178670095727\n",
      "Best Parameters: {'alpha': 0.1, 'class_prior': None, 'fit_prior': True}\n",
      "Test Set Accuracy (Best Model): 0.9863263445761167\n",
      "Best cross validation log_loss (train): 0.06827887699097222\n",
      "Best log loss (validation): 0.05147732196335981\n"
     ]
    }
   ],
   "source": [
    "best_nb_model, nb_conf_matrix, nb_class_report = develop_nb(X_train, X_validation, y_train, y_validation)"
   ]
  },
  {
   "cell_type": "markdown",
   "metadata": {},
   "source": [
    "The CV `log_loss` is in the ideal range for this value at 0.06828, and gets better in the validation testing data down to 0.05147. This means the model generalised very well to unseen data, making it highly confident in its predicting abilities. A larger unseen data is still necessary to learn more about the generalisability of the model with hopes that the `log_loss` value will remain in the same range as the ones in the training."
   ]
  },
  {
   "cell_type": "markdown",
   "metadata": {},
   "source": [
    "##### *7.2.2.Visualizing the confusion matrix for the best NB model*"
   ]
  },
  {
   "cell_type": "code",
   "execution_count": 295,
   "metadata": {},
   "outputs": [
    {
     "data": {
      "text/plain": [
       "<Figure size 800x800 with 0 Axes>"
      ]
     },
     "metadata": {},
     "output_type": "display_data"
    },
    {
     "data": {
      "image/png": "[encoded data removed]",
      "text/plain": [
       "<Figure size 640x480 with 2 Axes>"
      ]
     },
     "metadata": {},
     "output_type": "display_data"
    }
   ],
   "source": [
    "conf_matrix_visualizer(nb_conf_matrix, 'Naive Bayes')"
   ]
  },
  {
   "cell_type": "markdown",
   "metadata": {},
   "source": [
    "Even though the model is more accurate and confident in its predictions, it still has a similar weakness to the KNN model in that it struggles with classifying between the `business` and `technology` data. Apart from that, it seems to have performed quite well."
   ]
  },
  {
   "cell_type": "markdown",
   "metadata": {},
   "source": [
    "##### *7.2.3.Visualizing the decision boundaries for the NB model*"
   ]
  },
  {
   "cell_type": "code",
   "execution_count": 309,
   "metadata": {},
   "outputs": [
    {
     "data": {
      "image/png": "[encoded data removed]",
      "text/plain": [
       "<Figure size 1200x800 with 1 Axes>"
      ]
     },
     "metadata": {},
     "output_type": "display_data"
    }
   ],
   "source": [
    "feature_indices = [5, 60] # Value range is [0-4386, 0-5999], shape(4387, 6000)\n",
    "decision_boundaries_visualizer(best_nb_model,\n",
    "                               'Naive Bayes',\n",
    "                               X_train,\n",
    "                               X_validation,\n",
    "                               y_train,\n",
    "                               y_validation,\n",
    "                               feature_indices\n",
    "                             )"
   ]
  },
  {
   "cell_type": "markdown",
   "metadata": {},
   "source": [
    "#### ***7.3.Neural Networks***"
   ]
  },
  {
   "cell_type": "markdown",
   "metadata": {},
   "source": [
    "Setting up the mlflow environment for the Neural Networks (NN) model"
   ]
  },
  {
   "cell_type": "code",
   "execution_count": 139,
   "metadata": {},
   "outputs": [
    {
     "data": {
      "text/plain": [
       "<Experiment: artifact_location='mlflow-artifacts:/332257414483312577', creation_time=1738164141406, experiment_id='332257414483312577', last_update_time=1738164141406, lifecycle_stage='active', name='Neural Network Model', tags={}>"
      ]
     },
     "execution_count": 139,
     "metadata": {},
     "output_type": "execute_result"
    }
   ],
   "source": [
    "nn_experiment_name = 'Neural Network Model'\n",
    "#experiment_id = mlflow.create_experiment(nn_experiment_name)\n",
    "mlflow.set_experiment(nn_experiment_name)"
   ]
  },
  {
   "cell_type": "markdown",
   "metadata": {},
   "source": [
    "##### *7.3.1.Developing the model and tracking the metrics on mlflow*"
   ]
  },
  {
   "cell_type": "markdown",
   "metadata": {},
   "source": [
    "An `MLPClassifier` from the `neural_network` module in Scikit-learn library was used to develop the NN model. The `Sequential` model from the `keras` module in TensorFlow library does not work seemlessly with Scikit-learn packages like the `GridSearchCV` used for hyperparameter tuning. Often times, a wrapper of some sort is required to compatibilize these packages from different libraries. Sometimes these wrappers may not be updated as often as required and this may cause unnecessary errors. Since the majority of the packages used in this notebook are from the Scikit-learn library, the neural network model was also selected from the Scikit-learn `neural_network` module."
   ]
  },
  {
   "cell_type": "code",
   "execution_count": 142,
   "metadata": {},
   "outputs": [],
   "source": [
    "def develop_nn(X_train, X_validation, y_train, y_validation):\n",
    "    \"\"\"\n",
    "    - Trains a Neural Network model using a GridSearchCV for hyperparameter tuning.\n",
    "    - Logs the metrics of model onto an MLflow server.\n",
    "    \n",
    "    Parameters:\n",
    "    - X_train - Training features\n",
    "    - y_train - Training target variable\n",
    "    - X_validation - Testing features\n",
    "    - y_validation - Testing variables\n",
    "\n",
    "    Returns:\n",
    "    - best_model - Model that performed the best\n",
    "    - conf_matrix - The confusion matrix of the best model\n",
    "    - best_report - The classification report of the best model\n",
    "    \"\"\"\n",
    "\n",
    "    # Initialize MLPClassifier\n",
    "    mlp = MLPClassifier(solver='adam', random_state=42)\n",
    "\n",
    "    # Define hyperparameter grid for GridSearchCV\n",
    "    param_grid = {\n",
    "        'hidden_layer_sizes': [(10, 10), (20, 20), (10, 20)], \n",
    "        'activation': ['relu'],  \n",
    "        'alpha': [0.0001, 0.001, 0.01], \n",
    "        'learning_rate': ['constant'], \n",
    "        'batch_size': [32], \n",
    "        'max_iter': [1000, 20], \n",
    "    }\n",
    "\n",
    "    scorer = make_scorer(log_loss, greater_is_better=False, needs_proba=True)\n",
    "    \n",
    "    # Set up GridSearchCV with log_loss as scoring\n",
    "    nn_grid_search = GridSearchCV(\n",
    "        estimator=mlp,\n",
    "        param_grid=param_grid,\n",
    "        cv=3,\n",
    "        n_jobs=-1,\n",
    "        refit='log_loss',\n",
    "        return_train_score=True,\n",
    "        scoring=scorer\n",
    "        )\n",
    "\n",
    "    # Start mlflow run\n",
    "    with mlflow.start_run(run_name=\"NN GridSearchCV Try 3\"):\n",
    "\n",
    "        # Fit the grid search model\n",
    "        nn_grid_search.fit(X_train, y_train)\n",
    "\n",
    "        # Log metrics for all parameter combinations\n",
    "        results = nn_grid_search.cv_results_\n",
    "\n",
    "        for i in range(len(results['params'])):\n",
    "            params = results['params'][i]\n",
    "\n",
    "            # Predict on the validation set for each parameter combination\n",
    "            model = nn_grid_search.estimator.set_params(**params)\n",
    "            model.fit(X_train, y_train)\n",
    "            nn_y_pred = model.predict(X_validation)\n",
    "            nn_y_pred_proba = model.predict_proba(X_validation)\n",
    "\n",
    "            # Classification report and log loss\n",
    "            report = classification_report(y_validation, nn_y_pred, output_dict=True)\n",
    "            log_loss_value = log_loss(y_validation, nn_y_pred_proba)\n",
    "\n",
    "            with mlflow.start_run(run_name=f\"Run {i + 1}\", nested=True):\n",
    "                # Log parameters\n",
    "                mlflow.log_params(params)\n",
    "\n",
    "                # Log metrics from the classification report\n",
    "                mlflow.log_metric('accuracy', report['accuracy'])\n",
    "                mlflow.log_metric('precision_weighted', report['weighted avg']['precision'])\n",
    "                mlflow.log_metric('recall_weighted', report['weighted avg']['recall'])\n",
    "                mlflow.log_metric('f1_score_weighted', report['weighted avg']['f1-score'])\n",
    "                mlflow.log_metric('log_loss', log_loss_value)\n",
    "\n",
    "\n",
    "        # Log the best model\n",
    "        best_model = nn_grid_search.best_estimator_\n",
    "        best_params = nn_grid_search.best_params_\n",
    "        y_best_pred = best_model.predict(X_validation)\n",
    "        y_best_pred_proba = best_model.predict_proba(X_validation)\n",
    "        best_report = classification_report(y_validation, y_best_pred, output_dict=True)\n",
    "        best_log_loss_value = log_loss(y_validation, y_best_pred_proba)\n",
    "        conf_matrix = confusion_matrix(y_validation, y_best_pred)\n",
    "\n",
    "        # Log the best parameters\n",
    "        mlflow.log_params(best_params)\n",
    "        \n",
    "        # Log metrics for the best model\n",
    "        mlflow.log_metric('best_accuracy', best_report['accuracy'])\n",
    "        mlflow.log_metric('best_precision_weighted', best_report['weighted avg']['precision'])\n",
    "        mlflow.log_metric('best_recall_weighted', best_report['weighted avg']['recall'])\n",
    "        mlflow.log_metric('best_f1_score_weighted', best_report['weighted avg']['f1-score'])\n",
    "        mlflow.log_metric('best_log_loss', best_log_loss_value)\n",
    "\n",
    "        mlflow.sklearn.log_model(best_model, 'best_model')\n",
    "    \n",
    "    # Output results\n",
    "    print('Best Parameters:', nn_grid_search.best_params_)\n",
    "    print('Test Set Accuracy (Best Model):', best_report['accuracy'])\n",
    "    print('Best cross validation log_loss (train):', -nn_grid_search.best_score_)\n",
    "    print('Best log loss (validation):', best_log_loss_value)\n",
    "\n",
    "    # Returning the best model\n",
    "    return best_model, conf_matrix, best_report\n",
    "    "
   ]
  },
  {
   "cell_type": "markdown",
   "metadata": {},
   "source": [
    "Getting the best NN model (`best_nn_model`) along with its confusion matrix (`nn_conf_matrix`) and classification report (`nn_class_report`) based on the best log_loss value."
   ]
  },
  {
   "cell_type": "code",
   "execution_count": 144,
   "metadata": {},
   "outputs": [
    {
     "name": "stdout",
     "output_type": "stream",
     "text": [
      "🏃 View run Run 1 at: http://127.0.0.1:5000/#/experiments/332257414483312577/runs/bd8d84504bfb48969de07f0b82f46cdf\n",
      "🧪 View experiment at: http://127.0.0.1:5000/#/experiments/332257414483312577\n",
      "🏃 View run Run 2 at: http://127.0.0.1:5000/#/experiments/332257414483312577/runs/770a7f4535c142f380057a70c53f5bfc\n",
      "🧪 View experiment at: http://127.0.0.1:5000/#/experiments/332257414483312577\n",
      "🏃 View run Run 3 at: http://127.0.0.1:5000/#/experiments/332257414483312577/runs/5c4beeb1168449a585b103e291299580\n",
      "🧪 View experiment at: http://127.0.0.1:5000/#/experiments/332257414483312577\n",
      "🏃 View run Run 4 at: http://127.0.0.1:5000/#/experiments/332257414483312577/runs/8427878a39684ef88c602957409f32df\n",
      "🧪 View experiment at: http://127.0.0.1:5000/#/experiments/332257414483312577\n",
      "🏃 View run Run 5 at: http://127.0.0.1:5000/#/experiments/332257414483312577/runs/35e09f90447f4928974d2b58b9ae4aee\n",
      "🧪 View experiment at: http://127.0.0.1:5000/#/experiments/332257414483312577\n",
      "🏃 View run Run 6 at: http://127.0.0.1:5000/#/experiments/332257414483312577/runs/1481296afe7d4e33b59498c480676c1c\n",
      "🧪 View experiment at: http://127.0.0.1:5000/#/experiments/332257414483312577\n",
      "🏃 View run Run 7 at: http://127.0.0.1:5000/#/experiments/332257414483312577/runs/e3df0bec26c140189ad63bf73241c49e\n",
      "🧪 View experiment at: http://127.0.0.1:5000/#/experiments/332257414483312577\n",
      "🏃 View run Run 8 at: http://127.0.0.1:5000/#/experiments/332257414483312577/runs/47884c61107f413daab3bb1358bf92e8\n",
      "🧪 View experiment at: http://127.0.0.1:5000/#/experiments/332257414483312577\n",
      "🏃 View run Run 9 at: http://127.0.0.1:5000/#/experiments/332257414483312577/runs/159acd86940148488f90455372272565\n",
      "🧪 View experiment at: http://127.0.0.1:5000/#/experiments/332257414483312577\n",
      "🏃 View run Run 10 at: http://127.0.0.1:5000/#/experiments/332257414483312577/runs/394842940c6d4a4580bf6122ef300645\n",
      "🧪 View experiment at: http://127.0.0.1:5000/#/experiments/332257414483312577\n",
      "🏃 View run Run 11 at: http://127.0.0.1:5000/#/experiments/332257414483312577/runs/059dfe93b4e847a1b6bcb6d0da3eb9a7\n",
      "🧪 View experiment at: http://127.0.0.1:5000/#/experiments/332257414483312577\n",
      "🏃 View run Run 12 at: http://127.0.0.1:5000/#/experiments/332257414483312577/runs/9eb4e4b5e51c41539e8b15c173e047eb\n",
      "🧪 View experiment at: http://127.0.0.1:5000/#/experiments/332257414483312577\n",
      "🏃 View run Run 13 at: http://127.0.0.1:5000/#/experiments/332257414483312577/runs/a4b20b145fca41c595e3b280d0401ae2\n",
      "🧪 View experiment at: http://127.0.0.1:5000/#/experiments/332257414483312577\n",
      "🏃 View run Run 14 at: http://127.0.0.1:5000/#/experiments/332257414483312577/runs/528d46854b0541959ecdc01c78e32700\n",
      "🧪 View experiment at: http://127.0.0.1:5000/#/experiments/332257414483312577\n",
      "🏃 View run Run 15 at: http://127.0.0.1:5000/#/experiments/332257414483312577/runs/13191a464aef4366919c98c19df83844\n",
      "🧪 View experiment at: http://127.0.0.1:5000/#/experiments/332257414483312577\n",
      "🏃 View run Run 16 at: http://127.0.0.1:5000/#/experiments/332257414483312577/runs/f20459b1b2004bb0b9b81774ebb8ffc0\n",
      "🧪 View experiment at: http://127.0.0.1:5000/#/experiments/332257414483312577\n",
      "🏃 View run Run 17 at: http://127.0.0.1:5000/#/experiments/332257414483312577/runs/54f297e752bd4555bc137d33dcffdcc6\n",
      "🧪 View experiment at: http://127.0.0.1:5000/#/experiments/332257414483312577\n",
      "🏃 View run Run 18 at: http://127.0.0.1:5000/#/experiments/332257414483312577/runs/8cdf2829c9ee4460897d1ca26a8d8ac2\n",
      "🧪 View experiment at: http://127.0.0.1:5000/#/experiments/332257414483312577\n"
     ]
    },
    {
     "name": "stderr",
     "output_type": "stream",
     "text": [
      "2025/02/02 12:06:17 WARNING mlflow.models.model: Model logged without a signature and input example. Please set `input_example` parameter when logging the model to auto infer the model signature.\n"
     ]
    },
    {
     "name": "stdout",
     "output_type": "stream",
     "text": [
      "🏃 View run NN GridSearchCV Try 3 at: http://127.0.0.1:5000/#/experiments/332257414483312577/runs/594eff48a7c545bbaab8a134e2820534\n",
      "🧪 View experiment at: http://127.0.0.1:5000/#/experiments/332257414483312577\n",
      "Best Parameters: {'activation': 'relu', 'alpha': 0.0001, 'batch_size': 32, 'hidden_layer_sizes': (20, 20), 'learning_rate': 'constant', 'max_iter': 20}\n",
      "Test Set Accuracy (Best Model): 0.9881494986326345\n",
      "Best cross validation log_loss (train): 0.05478333798580581\n",
      "Best log loss (validation): 0.045016996120266585\n"
     ]
    }
   ],
   "source": [
    "best_nn_model, nn_conf_matrix, nn_class_report = develop_nn(\n",
    "                                                    X_train, \n",
    "                                                    X_validation, \n",
    "                                                    y_train, \n",
    "                                                    y_validation\n",
    "                                                )"
   ]
  },
  {
   "cell_type": "markdown",
   "metadata": {},
   "source": [
    "Similarly to the NB model, the CV `log_loss` of the NN model looks healthy at 0.05478 and gets slightly better in the validation testing with a value of 0.04502."
   ]
  },
  {
   "cell_type": "markdown",
   "metadata": {},
   "source": [
    "##### *7.3.2.Visualizing the confusion matrix for the best NN model*"
   ]
  },
  {
   "cell_type": "code",
   "execution_count": 312,
   "metadata": {},
   "outputs": [
    {
     "data": {
      "text/plain": [
       "<Figure size 800x800 with 0 Axes>"
      ]
     },
     "metadata": {},
     "output_type": "display_data"
    },
    {
     "data": {
      "image/png": "[encoded data removed]",
      "text/plain": [
       "<Figure size 640x480 with 2 Axes>"
      ]
     },
     "metadata": {},
     "output_type": "display_data"
    }
   ],
   "source": [
    "conf_matrix_visualizer(nn_conf_matrix, 'Neural Networks')"
   ]
  },
  {
   "cell_type": "markdown",
   "metadata": {},
   "source": [
    "The trend of having more misclassified data between the `business` and `technology` classes continues in this model. The good news is that this model has a lower number of these misclassifications compared to the KNN and NB models. Overall, the model performed well which was expected given the low `log_loss` values from the training."
   ]
  },
  {
   "cell_type": "markdown",
   "metadata": {},
   "source": [
    "##### *7.3.3.Visualizing the decision boundaries for the NN model*"
   ]
  },
  {
   "cell_type": "code",
   "execution_count": 317,
   "metadata": {},
   "outputs": [
    {
     "data": {
      "image/png": "[encoded data removed]",
      "text/plain": [
       "<Figure size 1200x800 with 1 Axes>"
      ]
     },
     "metadata": {},
     "output_type": "display_data"
    }
   ],
   "source": [
    "feature_indices = [3, 59] # Value range is [0-4386, 0-5999], shape(4387, 6000)\n",
    "decision_boundaries_visualizer(best_nn_model,\n",
    "                               'Neural Networks',\n",
    "                               X_train,\n",
    "                               X_validation,\n",
    "                               y_train,\n",
    "                               y_validation,\n",
    "                               feature_indices\n",
    "                             )"
   ]
  },
  {
   "cell_type": "markdown",
   "metadata": {},
   "source": [
    "#### ***7.4.Logistic Regression***"
   ]
  },
  {
   "cell_type": "code",
   "execution_count": null,
   "metadata": {},
   "outputs": [],
   "source": []
  },
  {
   "cell_type": "markdown",
   "metadata": {},
   "source": [
    "#### ***7.5.Random Forest Classifier***"
   ]
  },
  {
   "cell_type": "markdown",
   "metadata": {},
   "source": [
    "#### ***7.6.AdaBoost Classifier***"
   ]
  },
  {
   "cell_type": "markdown",
   "metadata": {},
   "source": [
    "#### ***7.7.Support Vector Machine***"
   ]
  },
  {
   "cell_type": "markdown",
   "metadata": {},
   "source": [
    "### **8.Model Evaluation**"
   ]
  },
  {
   "cell_type": "code",
   "execution_count": null,
   "metadata": {},
   "outputs": [],
   "source": []
  },
  {
   "cell_type": "markdown",
   "metadata": {},
   "source": [
    "### **9.Model Deployment**"
   ]
  },
  {
   "cell_type": "code",
   "execution_count": null,
   "metadata": {},
   "outputs": [],
   "source": []
  },
  {
   "cell_type": "markdown",
   "metadata": {},
   "source": [
    "### **10.Conclusion and Recommendations**"
   ]
  },
  {
   "cell_type": "markdown",
   "metadata": {},
   "source": []
  },
  {
   "cell_type": "markdown",
   "metadata": {},
   "source": [
    "### **11.References**"
   ]
  },
  {
   "cell_type": "markdown",
   "metadata": {},
   "source": []
  }
 ],
 "metadata": {
  "kernelspec": {
   "display_name": "Python 3",
   "language": "python",
   "name": "python3"
  },
  "language_info": {
   "codemirror_mode": {
    "name": "ipython",
    "version": 3
   },
   "file_extension": ".py",
   "mimetype": "text/x-python",
   "name": "python",
   "nbconvert_exporter": "python",
   "pygments_lexer": "ipython3",
   "version": "3.13.0"
  }
 },
 "nbformat": 4,
 "nbformat_minor": 4
}
